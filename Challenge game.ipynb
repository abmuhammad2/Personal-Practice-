{
 "cells": [
  {
   "cell_type": "code",
   "execution_count": null,
   "metadata": {},
   "outputs": [],
   "source": [
    "while True:\n",
    "    WEIGHT = int(input(\"Enter the weight in kilogram:\\n\"))\n",
    "    if WEIGHT < 0:\n",
    "        print (\"Invalid input, Try another value\")\n",
    "        False\n",
    "    else:\n",
    "        if WEIGHT > 0:\n",
    "            print (\"The Weight\",WEIGHT,\"Kg is equivalent to\",(WEIGHT*2.205),\"lbs\")\n",
    "            print (\"Do you want to input another value? Y/N\")\n",
    "            a = input()\n",
    "            if a == \"N\":\n",
    "                False\n",
    "                print(\"Thank you!\")\n",
    "                break\n",
    "            elif a == \"Y\":\n",
    "                print (\"Enter a new value\")\n",
    "                WEIGHT = int(input(\"Enter the weight in kilogram:\\n\"))\n",
    "            else:\n",
    "                print (\"invalid input\")"
   ]
  },
  {
   "cell_type": "code",
   "execution_count": null,
   "metadata": {},
   "outputs": [],
   "source": [
    "user = input(\"Please enter your name: \")\n",
    "print (\"Hello \"+ user.title() + \"!\")\n",
    "print (\"Welcome to AB-Motor Enterprise\")\n",
    "print (\"\\nEnter 'quit' to end the program\")\n",
    "\n",
    "user_spec = \"\"\n",
    "while user_spec != \"quit\":\n",
    "    user_spec = input(\"\\nWhat kind of car will you like?:\\n\")\n",
    "    if user_spec != \"quit\":\n",
    "        print (\"\\nLet me see if I can find you a \"+ user_spec.title())\n",
    "        print (\"Please wait while I contact the marketing personnel.......\")\n",
    "    else:\n",
    "        break"
   ]
  },
  {
   "cell_type": "code",
   "execution_count": null,
   "metadata": {},
   "outputs": [],
   "source": [
    "from random import randint\n",
    "secret_num = randint(1,100)\n",
    "num_guesses = 0 \n",
    "guess = 0\n",
    "while guess != secret_num and num_guesses <= 4: \n",
    "    guess = eval(input('Enter your guess (1-100): ')) \n",
    "    num_guesses = num_guesses + 1 \n",
    "    if guess < secret_num: \n",
    "        print('HIGHER.', 5-num_guesses, 'guesses left.\\n') \n",
    "    elif guess > secret_num: \n",
    "        print('LOWER.', 5-num_guesses, 'guesses left.\\n') \n",
    "    else: \n",
    "        print('You got it!')\n",
    "if num_guesses==5 and guess != secret_num:\n",
    "    print('You lose. The correct number is', secret_num)\n",
    "    "
   ]
  },
  {
   "cell_type": "code",
   "execution_count": 3,
   "metadata": {},
   "outputs": [
    {
     "name": "stdout",
     "output_type": "stream",
     "text": [
      "Guess the number chosen by system\n",
      "1\n",
      "Your answer is too low! want to try again? Y/N\n",
      "n\n",
      "Sorry! invalid input\n",
      "Your answer is too low! want to try again? Y/N\n",
      "1\n",
      "Sorry! invalid input\n",
      "Your answer is too low! want to try again? Y/N\n",
      "2\n",
      "Sorry! invalid input\n",
      "Your answer is too low! want to try again? Y/N\n",
      "3\n",
      "Sorry! invalid input\n",
      "Your answer is too low! want to try again? Y/N\n",
      "Y\n",
      "Great! Choose a new number\n",
      "1\n",
      "Your answer is too low! want to try again? Y/N\n",
      "N\n",
      "system guessed:2\n"
     ]
    }
   ],
   "source": [
    "import random\n",
    "r = random.randint(0,20)\n",
    "print (\"Guess the number chosen by system\")\n",
    "x = int(input())\n",
    "k = 0\n",
    "while k == 0:\n",
    "    if x == r:\n",
    "        print (\"wow! You chose the correct number\")\n",
    "        k=1\n",
    "    else:\n",
    "        if x < r:\n",
    "            print (\"Your answer is too low! want to try again? Y/N\")\n",
    "            a = input()\n",
    "            if a == 'N':\n",
    "                k=1\n",
    "                print (\"system guessed:\" + str(r))\n",
    "            elif a == \"Y\":\n",
    "                print (\"Great! Choose a new number\")\n",
    "                x = int(input())\n",
    "            else:\n",
    "                 print (\"Sorry! invalid input\")\n",
    "        if x > r:\n",
    "            print (\"Your answer is too high! want to try again? Y/N\")\n",
    "            a = input()\n",
    "            if a == \"N\":\n",
    "                k = 1\n",
    "                print (\"system guessed:\" + str(r))\n",
    "            elif a == \"Y\":\n",
    "                print (\"Great! Choose a new number\")\n",
    "                x = int(input())\n",
    "            else:\n",
    "                print (\"Sorry! invalid input\")\n",
    "                "
   ]
  },
  {
   "cell_type": "code",
   "execution_count": null,
   "metadata": {},
   "outputs": [],
   "source": []
  },
  {
   "cell_type": "code",
   "execution_count": null,
   "metadata": {},
   "outputs": [],
   "source": []
  }
 ],
 "metadata": {
  "kernelspec": {
   "display_name": "Python 3",
   "language": "python",
   "name": "python3"
  },
  "language_info": {
   "codemirror_mode": {
    "name": "ipython",
    "version": 3
   },
   "file_extension": ".py",
   "mimetype": "text/x-python",
   "name": "python",
   "nbconvert_exporter": "python",
   "pygments_lexer": "ipython3",
   "version": "3.7.4"
  }
 },
 "nbformat": 4,
 "nbformat_minor": 2
}
