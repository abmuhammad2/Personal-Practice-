{
 "cells": [
  {
   "cell_type": "markdown",
   "metadata": {},
   "source": [
    "# Python Arrays"
   ]
  },
  {
   "cell_type": "code",
   "execution_count": 10,
   "metadata": {},
   "outputs": [
    {
     "data": {
      "text/plain": [
       "array('i', [1, 2, 3, 4, 5])"
      ]
     },
     "execution_count": 10,
     "metadata": {},
     "output_type": "execute_result"
    }
   ],
   "source": [
    "#creating an array\n",
    "\n",
    "import array as arr\n",
    "\n",
    "b = arr.array('i', [1,2,3,4,5]) # the i specifies the typecode i=integer,typecode (must be b, B, u, h, H, i, I, l, L, q, Q, f or d)\n",
    "b"
   ]
  },
  {
   "cell_type": "code",
   "execution_count": 11,
   "metadata": {},
   "outputs": [
    {
     "data": {
      "text/plain": [
       "1"
      ]
     },
     "execution_count": 11,
     "metadata": {},
     "output_type": "execute_result"
    }
   ],
   "source": [
    "#accessing elements of an array\n",
    "\n",
    "b[0]"
   ]
  },
  {
   "cell_type": "code",
   "execution_count": 12,
   "metadata": {},
   "outputs": [
    {
     "data": {
      "text/plain": [
       "array('i', [1, 2, 3, 4, 5, 6])"
      ]
     },
     "execution_count": 12,
     "metadata": {},
     "output_type": "execute_result"
    }
   ],
   "source": [
    "#adding elements\n",
    "\n",
    "#append(): is for adding one element\n",
    "\n",
    "b.append(6)\n",
    "b"
   ]
  },
  {
   "cell_type": "code",
   "execution_count": 13,
   "metadata": {},
   "outputs": [
    {
     "data": {
      "text/plain": [
       "array('i', [1, 2, 3, 4, 5, 6, 7, 8, 9])"
      ]
     },
     "execution_count": 13,
     "metadata": {},
     "output_type": "execute_result"
    }
   ],
   "source": [
    "#extend(): is for adding more than one elements\n",
    "\n",
    "b.extend([7,8,9])\n",
    "b"
   ]
  },
  {
   "cell_type": "code",
   "execution_count": 14,
   "metadata": {},
   "outputs": [
    {
     "data": {
      "text/plain": [
       "array('i', [1, 2, 12, 3, 4, 5, 6, 7, 8, 9])"
      ]
     },
     "execution_count": 14,
     "metadata": {},
     "output_type": "execute_result"
    }
   ],
   "source": [
    "#insert(): is for adding  elements to a specific index value. Syntax: .insert(index, value)\n",
    "\n",
    "b.insert(2,12)\n",
    "b"
   ]
  },
  {
   "cell_type": "code",
   "execution_count": 15,
   "metadata": {},
   "outputs": [
    {
     "data": {
      "text/plain": [
       "array('i', [1, 2, 12, 3, 4, 5, 6, 7, 8])"
      ]
     },
     "execution_count": 15,
     "metadata": {},
     "output_type": "execute_result"
    }
   ],
   "source": [
    "#removing elements from an array\n",
    "\n",
    "#pop(): takes the index of the parameter to be removed; if no index is specified, it removes the last element in the array\n",
    "\n",
    "b.pop()\n",
    "b"
   ]
  },
  {
   "cell_type": "code",
   "execution_count": 16,
   "metadata": {},
   "outputs": [
    {
     "data": {
      "text/plain": [
       "array('i', [1, 2, 3, 4, 5, 6, 7, 8])"
      ]
     },
     "execution_count": 16,
     "metadata": {},
     "output_type": "execute_result"
    }
   ],
   "source": [
    "b.pop(2)\n",
    "b"
   ]
  },
  {
   "cell_type": "code",
   "execution_count": 19,
   "metadata": {},
   "outputs": [
    {
     "data": {
      "text/plain": [
       "array('i', [1, 3, 5, 6, 7, 8])"
      ]
     },
     "execution_count": 19,
     "metadata": {},
     "output_type": "execute_result"
    }
   ],
   "source": [
    "#remove(): takes the element to be removed itself\n",
    "\n",
    "b.remove(2)\n",
    "b"
   ]
  },
  {
   "cell_type": "code",
   "execution_count": 20,
   "metadata": {},
   "outputs": [
    {
     "data": {
      "text/plain": [
       "array('i', [1, 3, 5, 6, 7, 8])"
      ]
     },
     "execution_count": 20,
     "metadata": {},
     "output_type": "execute_result"
    }
   ],
   "source": [
    "b"
   ]
  },
  {
   "cell_type": "code",
   "execution_count": 21,
   "metadata": {},
   "outputs": [],
   "source": [
    "b.remove(5)"
   ]
  },
  {
   "cell_type": "code",
   "execution_count": 22,
   "metadata": {},
   "outputs": [
    {
     "data": {
      "text/plain": [
       "array('i', [1, 3, 6, 7, 8])"
      ]
     },
     "execution_count": 22,
     "metadata": {},
     "output_type": "execute_result"
    }
   ],
   "source": [
    "b"
   ]
  },
  {
   "cell_type": "code",
   "execution_count": 23,
   "metadata": {},
   "outputs": [
    {
     "data": {
      "text/plain": [
       "array('i', [1, 2, 3, 4, 5, 6, 7, 8])"
      ]
     },
     "execution_count": 23,
     "metadata": {},
     "output_type": "execute_result"
    }
   ],
   "source": [
    "# Array concatenation\n",
    "\n",
    "a = arr.array('i', [1,2,3,4])\n",
    "c = arr.array('i', [5,6,7,8])\n",
    "d = arr.array('i')# empty array\n",
    "d = a + c\n",
    "d"
   ]
  },
  {
   "cell_type": "code",
   "execution_count": 24,
   "metadata": {},
   "outputs": [
    {
     "data": {
      "text/plain": [
       "array('i', [1, 2, 3])"
      ]
     },
     "execution_count": 24,
     "metadata": {},
     "output_type": "execute_result"
    }
   ],
   "source": [
    "#slicing an array\n",
    "\n",
    "d[0:3]"
   ]
  },
  {
   "cell_type": "code",
   "execution_count": 25,
   "metadata": {},
   "outputs": [
    {
     "data": {
      "text/plain": [
       "array('i', [1, 2, 3, 4])"
      ]
     },
     "execution_count": 25,
     "metadata": {},
     "output_type": "execute_result"
    }
   ],
   "source": [
    "d[:4]"
   ]
  },
  {
   "cell_type": "code",
   "execution_count": 26,
   "metadata": {},
   "outputs": [
    {
     "data": {
      "text/plain": [
       "array('i', [1, 3, 5, 7])"
      ]
     },
     "execution_count": 26,
     "metadata": {},
     "output_type": "execute_result"
    }
   ],
   "source": [
    "d[::2]"
   ]
  },
  {
   "cell_type": "code",
   "execution_count": 27,
   "metadata": {},
   "outputs": [
    {
     "data": {
      "text/plain": [
       "array('i', [2, 4, 6, 8])"
      ]
     },
     "execution_count": 27,
     "metadata": {},
     "output_type": "execute_result"
    }
   ],
   "source": [
    "d[1::2]"
   ]
  },
  {
   "cell_type": "code",
   "execution_count": 28,
   "metadata": {},
   "outputs": [
    {
     "name": "stdout",
     "output_type": "stream",
     "text": [
      "1\n",
      "2\n",
      "3\n",
      "4\n",
      "5\n",
      "6\n",
      "7\n",
      "8\n"
     ]
    }
   ],
   "source": [
    "#looping through an array\n",
    "\n",
    "#for loop\n",
    "\n",
    "for x in d:\n",
    "    print(x)"
   ]
  },
  {
   "cell_type": "code",
   "execution_count": 32,
   "metadata": {},
   "outputs": [
    {
     "name": "stdout",
     "output_type": "stream",
     "text": [
      "1\n",
      "2\n",
      "3\n",
      "4\n",
      "5\n",
      "6\n"
     ]
    }
   ],
   "source": [
    "x = 0\n",
    "while x < 6:\n",
    "    print(d[x])\n",
    "    x += 1"
   ]
  },
  {
   "cell_type": "markdown",
   "metadata": {},
   "source": [
    "#  Hash Table and Hash maps in Python"
   ]
  },
  {
   "cell_type": "code",
   "execution_count": 2,
   "metadata": {},
   "outputs": [
    {
     "name": "stdout",
     "output_type": "stream",
     "text": [
      "            Met&Mats  Chemical\n",
      "students         250       400\n",
      "classrooms         2         5\n",
      "staffs            45        90\n"
     ]
    }
   ],
   "source": [
    "\"\"\"\n",
    "In Python, a Hash table or a Hashmap is a type of data structure that maps keys to its value pairs.\n",
    "\n",
    "A data frame is a 2D data structure that consists of columns of various types . \n",
    "It is very similar to a Python dictionary and you can even convert a dictionary to a pandas dataframe.\n",
    "\"\"\"\n",
    "\n",
    "# converting dictionary to data frame\n",
    "\n",
    "my_faculty = {'Department': {'Met&Mats': {'students': 250, 'classrooms': 2, 'staffs': 45},\n",
    "                            'Chemical': {'students': 400, 'classrooms': 5, 'staffs':90}}}\n",
    "\n",
    "import pandas as pd\n",
    "df = pd.DataFrame(my_faculty['Department'])\n",
    "print(df)"
   ]
  },
  {
   "cell_type": "code",
   "execution_count": 44,
   "metadata": {},
   "outputs": [
    {
     "data": {
      "text/plain": [
       "1"
      ]
     },
     "execution_count": 44,
     "metadata": {},
     "output_type": "execute_result"
    }
   ],
   "source": [
    "5%2"
   ]
  },
  {
   "cell_type": "code",
   "execution_count": 1,
   "metadata": {},
   "outputs": [
    {
     "name": "stdout",
     "output_type": "stream",
     "text": [
      "Enter number between 1 and 6:\n",
      "5\n",
      "Number is too large\n",
      "Enter number between 1 and 6:\n",
      "2\n",
      "Number is too small\n",
      "Enter number between 1 and 6:\n",
      "3\n",
      "Congrats\n"
     ]
    }
   ],
   "source": [
    "# while loop example: while loop is used when we don't know the possible number of iterations\n",
    "\n",
    "#Guessing die game\n",
    "\n",
    "from random import randint\n",
    "\n",
    "n = randint(1,6) #n = random number\n",
    "a = 0\n",
    "while a != n:\n",
    "    a = int(input('Enter number between 1 and 6:\\n')) #a = your guess\n",
    "    if n > 0:\n",
    "        if a > n:\n",
    "            print('Number is too large')\n",
    "        elif a < n:\n",
    "            print('Number is too small')\n",
    "    else:\n",
    "        print('Enter a positive number between 1 and 6 next time')\n",
    "        \n",
    "else:\n",
    "    print('Congrats')\n"
   ]
  },
  {
   "cell_type": "code",
   "execution_count": 4,
   "metadata": {},
   "outputs": [
    {
     "name": "stdout",
     "output_type": "stream",
     "text": [
      "Enter number lets find the factorial:\n",
      "-2\n",
      "Enter positive number only\n"
     ]
    }
   ],
   "source": [
    "# writing a factorial calculator code \n",
    "\n",
    "num = int(input('Enter number lets find the factorial:\\n'))\n",
    "factorial = 1\n",
    "\n",
    "if num < 0:\n",
    "    print('Enter positive number only')\n",
    "elif num == 0:\n",
    "    print('Factorial = 1')\n",
    "else:\n",
    "    for i in range(1, num + 1):\n",
    "        factorial = factorial * i\n",
    "    print(factorial)\n",
    "    "
   ]
  },
  {
   "cell_type": "code",
   "execution_count": null,
   "metadata": {},
   "outputs": [],
   "source": [
    "# using the while loop to create an ATM code\n",
    "\n",
    "#1. create the security system (the PIN)\n",
    "\n",
    "print('Welcome to Segun Financial Bank ATM')\n",
    "\n",
    "pin_trial = 3\n",
    "\n",
    "while pin_trial >= 0:\n",
    "    pin = int(input('Please enter your 4-digit PIN:\\n'))\n",
    "    if pin == 1234:\n",
    "        print('PIN is correct')\n",
    "        break\n",
    "        \n",
    "    elif pin != 1234:\n",
    "        print('Incorrect PIN')\n",
    "        pin_trial -= 1\n",
    "        if pin_trial == 0:\n",
    "            print('\\n Card blocked. Contact your bank for further details.')\n",
    "            break"
   ]
  },
  {
   "cell_type": "code",
   "execution_count": null,
   "metadata": {},
   "outputs": [
    {
     "name": "stdout",
     "output_type": "stream",
     "text": [
      "Welcome to Segun Financial Bank ATM\n",
      "Please enter your 4-digit PIN:\n",
      "1234\n",
      "PIN is correct\n",
      "\n",
      "What transaction do you want to perform?\n",
      "\n",
      "Enter 1: To check balance\n",
      "Enter 2: To make withdrawal\n",
      "Enter 3: To send money\n",
      "Enter 4: To deposit money\n",
      "Enter 5: To cancel transaction\n",
      "Enter code for transaction:\n",
      "1\n"
     ]
    }
   ],
   "source": [
    "# using the while loop to create an ATM code\n",
    "\n",
    "#2 create balance, homepage and transaction codes\n",
    "\n",
    "print('Welcome to Segun Financial Bank ATM')\n",
    "home_page = 'Y'\n",
    "pin_trial = 3\n",
    "balance = 250999.76\n",
    "\n",
    "while pin_trial >= 0:\n",
    "    pin = int(input('Please enter your 4-digit PIN:\\n'))\n",
    "    if pin == 1234:\n",
    "        print('PIN is correct\\n')\n",
    "        while home_page not in ('No', 'N', 'no', 'n'):\n",
    "            print('What transaction do you want to perform?\\n')\n",
    "            print('Enter 1: To check balance\\nEnter 2: To make withdrawal\\nEnter 3: To send money\\nEnter 4: To deposit money\\nEnter 5: To cancel transaction')\n",
    "            choice = int(input('Enter code for transaction:\\n'))\n",
    "            break\n",
    "            \n",
    "    elif pin != 1234:\n",
    "        print('Incorrect PIN')\n",
    "        pin_trial -= 1\n",
    "        if pin_trial == 0:\n",
    "            print('\\n Card blocked. Contact your bank for further details.')\n",
    "            break"
   ]
  },
  {
   "cell_type": "code",
   "execution_count": 1,
   "metadata": {},
   "outputs": [
    {
     "name": "stdout",
     "output_type": "stream",
     "text": [
      "WELCOME TO SEGUN FINANCIAL BANK (SFB) ATM\n",
      "Please enter your 4-digit PIN:\n",
      "(Enter 0000 to cancel)\n",
      "1234\n",
      "PIN is correct\n",
      "\n",
      "\n",
      "What transaction do you want to perform?\n",
      "\n",
      "Enter 1: To check balance\n",
      "Enter 2: To make withdrawal\n",
      "Enter 3: To send money\n",
      "Enter 4: To deposit money\n",
      "Enter 5: To cancel transaction\n",
      "Enter code for transaction:\n",
      "2\n",
      "Enter amount to withdraw: $100, $200, $500, $1000, $10000\n",
      "200\n",
      "\n",
      "Please take your cash\n",
      "\n",
      "TRANSACTION SUCCESSFUL\n",
      "Your new balance is $250799.76\n",
      "Would you like to perform another transaction?\n",
      "N\n",
      "\n",
      "Thank You for using SFB ATM.\n",
      "Please enter your 4-digit PIN:\n",
      "(Enter 0000 to cancel)\n",
      "0000\n"
     ]
    }
   ],
   "source": [
    "# using the while loop to create an ATM code\n",
    "\n",
    "#3 create transactions\n",
    "\n",
    "print('WELCOME TO SEGUN FINANCIAL BANK (SFB) ATM')\n",
    "home_page = 'Y'\n",
    "pin_trial = 3\n",
    "balance = 250999.76\n",
    "\n",
    "while pin_trial >= 0:\n",
    "    pin = int(input('Please enter your 4-digit PIN:\\n(Enter 0000 to cancel)\\n'))\n",
    "    if pin == 1234:\n",
    "        print('PIN is correct\\n')\n",
    "        while home_page not in ('No', 'N', 'no', 'n', 'nay'):\n",
    "            print('\\nWhat transaction do you want to perform?\\n')\n",
    "            print('Enter 1: To check balance\\nEnter 2: To make withdrawal\\nEnter 3: To send money\\nEnter 4: To deposit money\\nEnter 5: To cancel transaction')\n",
    "            choice = int(input('Enter code for transaction:\\n'))\n",
    "            \n",
    "            if choice == 1:\n",
    "                print('\\nYour current balance is $' + str(balance))\n",
    "                home_page = input('Would you like to perform another transaction?\\n')\n",
    "                if home_page in ('No', 'N', 'no', 'n', 'nay'):\n",
    "                    print('\\nThank You for using SFB ATM.')\n",
    "                    break\n",
    "                    \n",
    "            elif choice == 2:\n",
    "                withdrawal = float(input('Enter amount to withdraw: $100, $200, $500, $1000, $10000\\n'))\n",
    "                if withdrawal in range(100, 10001):\n",
    "                    print('\\nPlease take your cash\\n')\n",
    "                    balance = balance - withdrawal\n",
    "                    print('TRANSACTION SUCCESSFUL\\nYour new balance is $' + str(balance))\n",
    "                    home_page = input('Would you like to perform another transaction?\\n')\n",
    "                    if home_page in ('No', 'N', 'no', 'n', 'nay'):\n",
    "                        print('\\nThank You for using SFB ATM.')\n",
    "                        break\n",
    "                else:\n",
    "                    print('Invalid amount... Can only dispense amounts within $100 and $10000\\nTransaction declined')\n",
    "                    home_page = 'Y'\n",
    "                    \n",
    "            elif choice == 3:\n",
    "                bank = input(\"Enter Recipient's bank: GTB, FBN, UBA, ZENITH, UNION\\n\")\n",
    "                account_no = input(\"Enter recipient's 10-digit acct:\\n\")\n",
    "                if len(account_no) != 10:\n",
    "                    print('TRANSACTION DECLINED...Invalid account number\\n')\n",
    "                    home_page = 'Y'\n",
    "                else:\n",
    "                    amount = float(input(\"Enter amount to send:\\n\"))\n",
    "                    if amount == 0:\n",
    "                        print('TRANSACTION DECLINED...Invalid amount')\n",
    "                        home_page = 'Y'\n",
    "                    \n",
    "                    elif amount > balance:\n",
    "                        print('TRANSACTION DECLINED...Insufficient funds')\n",
    "                        home_page = 'Y'\n",
    "                    \n",
    "                    else:\n",
    "                        confirmation = input('Do you want to transfer $' + str(amount) + ' to ' + bank.title() + ' ' + str(account_no) + '?\\n')\n",
    "                        if confirmation in ('Yes', 'Y', 'yes', 'y', 'yeah'):\n",
    "                            print('\\nTRANSACTION SUCCESSFUL')\n",
    "                            balance = balance - amount\n",
    "                            print('Your new balance is $' + str(balance))\n",
    "                            home_page = input('Would you like to perform another transaction?\\n')\n",
    "                            if home_page in ('No', 'N', 'no', 'n', 'nay'):\n",
    "                                print('\\nThank You for using SFB ATM.')\n",
    "                                break\n",
    "                        else:\n",
    "                            print('TRANSACTION DECLINED')\n",
    "                            home_page = 'Y'\n",
    "                            \n",
    "            elif choice == 4:\n",
    "                print('\\nThis machine accepts deposits only in $100, $500 and $1000 notes')\n",
    "                amount = int(input('Enter which currency notes you want to deposit:\\n'))\n",
    "                if amount in (100, 500, 1000):\n",
    "                    num_notes = int(input(\"How many notes are you depositing (max of 20 notes):\\n\"))\n",
    "                    if num_notes == 0 or num_notes > 20 :\n",
    "                        print('TRANSACTION DECLINED...Invalid number of notes\\n')\n",
    "                        home_page = 'Y'\n",
    "                    else:\n",
    "                        total_amount = amount * num_notes\n",
    "                        balance = balance + total_amount\n",
    "                        print('\\nTRANSACTION SUCCESSFUL')\n",
    "                        print('\\nYour new balance is $' + str(balance))\n",
    "                        home_page = input('Would you like to perform another transaction?\\n')\n",
    "                        if home_page in ('No', 'N', 'no', 'n', 'nay'):\n",
    "                            print('\\nThank You for using SFB ATM.')\n",
    "                            break    \n",
    "                else:\n",
    "                    print('TRANSACTION DECLINED')\n",
    "                    home_page = 'Y'\n",
    "                    \n",
    "            elif choice == 5:\n",
    "                print('\\nPlease remove your card')\n",
    "                print('\\nThank You for using SFB ATM.')\n",
    "                break\n",
    "                \n",
    "    elif pin == 0000:\n",
    "        break\n",
    "        \n",
    "    elif pin != 1234 or pin != 0000:\n",
    "        print('Incorrect PIN')\n",
    "        pin_trial = pin_trial - 1\n",
    "        if pin_trial == 0:\n",
    "            print('\\nCard blocked. Contact your bank for further details.')\n",
    "            break"
   ]
  },
  {
   "cell_type": "code",
   "execution_count": null,
   "metadata": {},
   "outputs": [],
   "source": [
    "account_no = int(input(\"Enter recipient's 10-digit acct\"))\n",
    "print(len(account_no))"
   ]
  },
  {
   "cell_type": "code",
   "execution_count": null,
   "metadata": {},
   "outputs": [],
   "source": []
  }
 ],
 "metadata": {
  "kernelspec": {
   "display_name": "Python 3",
   "language": "python",
   "name": "python3"
  },
  "language_info": {
   "codemirror_mode": {
    "name": "ipython",
    "version": 3
   },
   "file_extension": ".py",
   "mimetype": "text/x-python",
   "name": "python",
   "nbconvert_exporter": "python",
   "pygments_lexer": "ipython3",
   "version": "3.7.4"
  }
 },
 "nbformat": 4,
 "nbformat_minor": 2
}
