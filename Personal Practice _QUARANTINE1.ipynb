{
 "cells": [
  {
   "cell_type": "code",
   "execution_count": 3,
   "metadata": {},
   "outputs": [
    {
     "name": "stdout",
     "output_type": "stream",
     "text": [
      "Enter a number, I will tell you if its odd or even\n",
      "This python is easy to learn: 70\n",
      "\n",
      "The number 70 is even\n"
     ]
    }
   ],
   "source": [
    "NUMBER = \"Enter a number, I will tell you if its odd or even\"\n",
    "NUMBER += \"\\nThis python is easy to learn: \"\n",
    "\n",
    "num = int(input(NUMBER))\n",
    "\n",
    "if num % 2 == 0:\n",
    "    print (\"\\nThe number \"+ str(num) + \" is even\")\n",
    "else:\n",
    "    print(\"\\nThe number \"+ str(num) + \" is odd\")\n",
    "    "
   ]
  },
  {
   "cell_type": "code",
   "execution_count": 5,
   "metadata": {},
   "outputs": [
    {
     "name": "stdout",
     "output_type": "stream",
     "text": [
      "Please enter your namemu\n",
      "Hello Mu!\n",
      "Welcome to AB-Motor Enterprise\n",
      "\n",
      "What kind of car will you like?:\n",
      "corolla\n",
      "\n",
      "Let me see if I can find you a Corolla\n",
      "Please wait while I contact the marketing personnel.......\n"
     ]
    }
   ],
   "source": [
    "user = input(\"Please enter your name\")\n",
    "print (\"Hello \"+ user.title() + \"!\")\n",
    "print (\"Welcome to AB-Motor Enterprise\")\n",
    "\n",
    "user_spec = input(\"\\nWhat kind of car will you like?:\\n\")\n",
    "print (\"\\nLet me see if I can find you a \"+ user_spec.title())\n",
    "print (\"Please wait while I contact the marketing personnel.......\")"
   ]
  },
  {
   "cell_type": "code",
   "execution_count": 8,
   "metadata": {},
   "outputs": [
    {
     "name": "stdout",
     "output_type": "stream",
     "text": [
      "Please enter your name\n",
      "habeeb\n",
      "Hello Habeeb!\n",
      "Welcome to Amhalfs Food\n",
      "\n",
      "How many people are in your dinner?:\n",
      "909\n",
      "\n",
      "Sorry Habeeb, you will have to wait while I among you a suitable table\n"
     ]
    }
   ],
   "source": [
    "dinner = input(\"Please enter your name\\n\")\n",
    "print (\"Hello \"+ dinner.title() + \"!\")\n",
    "print (\"Welcome to Amhalfs Food\")\n",
    "\n",
    "dinner_num = int(input(\"\\nHow many people are in your dinner?:\\n\"))\n",
    "\n",
    "if dinner_num > 8:\n",
    "    print (\"\\nSorry \"+ dinner.title() + \", you will have to wait while I arrange you a suitable table\")\n",
    "else:\n",
    "    print (\"\\nThank you \" +dinner.title()+ \", your table is ready\")\n",
    "    "
   ]
  },
  {
   "cell_type": "code",
   "execution_count": 18,
   "metadata": {},
   "outputs": [
    {
     "name": "stdout",
     "output_type": "stream",
     "text": [
      "Please enter a number:\n",
      "200000000\n",
      "the number is  a multiple of 10\n"
     ]
    }
   ],
   "source": [
    "din = int(input(\"Please enter a number:\\n\"))\n",
    "\n",
    "if din % 10 == 0:\n",
    "    print (\"the number is  a multiple of 10\")\n",
    "else:\n",
    "    print (\"the number is a not multiple of 10\")\n",
    "    "
   ]
  },
  {
   "cell_type": "code",
   "execution_count": 23,
   "metadata": {},
   "outputs": [
    {
     "name": "stdout",
     "output_type": "stream",
     "text": [
      "1\n",
      "2\n",
      "3\n",
      "4\n",
      "5\n"
     ]
    }
   ],
   "source": [
    "current =1 \n",
    "while current <= 5:\n",
    "    print (current)\n",
    "    current += 1   #----> is the same as  current =current+ 1\n",
    "    "
   ]
  },
  {
   "cell_type": "code",
   "execution_count": 24,
   "metadata": {},
   "outputs": [
    {
     "name": "stdout",
     "output_type": "stream",
     "text": [
      "\n",
      "Please enter a number:\n",
      "Enter 'quit' to end the programquit\n"
     ]
    },
    {
     "ename": "ValueError",
     "evalue": "invalid literal for int() with base 10: 'quit'",
     "output_type": "error",
     "traceback": [
      "\u001b[1;31m---------------------------------------------------------------------------\u001b[0m",
      "\u001b[1;31mValueError\u001b[0m                                Traceback (most recent call last)",
      "\u001b[1;32m<ipython-input-24-da1efbae7b2d>\u001b[0m in \u001b[0;36m<module>\u001b[1;34m\u001b[0m\n\u001b[0;32m      4\u001b[0m \u001b[0mmessage\u001b[0m \u001b[1;33m=\u001b[0m \u001b[1;34m\"\"\u001b[0m\u001b[1;33m\u001b[0m\u001b[1;33m\u001b[0m\u001b[0m\n\u001b[0;32m      5\u001b[0m \u001b[1;32mwhile\u001b[0m \u001b[0mmessage\u001b[0m \u001b[1;33m!=\u001b[0m \u001b[1;34m\"quit\"\u001b[0m\u001b[1;33m:\u001b[0m\u001b[1;33m\u001b[0m\u001b[1;33m\u001b[0m\u001b[0m\n\u001b[1;32m----> 6\u001b[1;33m     \u001b[0mmessage\u001b[0m \u001b[1;33m=\u001b[0m \u001b[0mint\u001b[0m\u001b[1;33m(\u001b[0m\u001b[0minput\u001b[0m\u001b[1;33m(\u001b[0m\u001b[0mdin\u001b[0m\u001b[1;33m)\u001b[0m\u001b[1;33m)\u001b[0m\u001b[1;33m\u001b[0m\u001b[1;33m\u001b[0m\u001b[0m\n\u001b[0m\u001b[0;32m      7\u001b[0m     \u001b[1;32mif\u001b[0m \u001b[0mdin\u001b[0m \u001b[1;33m%\u001b[0m \u001b[1;36m10\u001b[0m \u001b[1;33m==\u001b[0m \u001b[1;36m0\u001b[0m\u001b[1;33m:\u001b[0m\u001b[1;33m\u001b[0m\u001b[1;33m\u001b[0m\u001b[0m\n\u001b[0;32m      8\u001b[0m         \u001b[0mprint\u001b[0m \u001b[1;33m(\u001b[0m\u001b[1;34m\"the number is  a multiple of 10\"\u001b[0m\u001b[1;33m)\u001b[0m\u001b[1;33m\u001b[0m\u001b[1;33m\u001b[0m\u001b[0m\n",
      "\u001b[1;31mValueError\u001b[0m: invalid literal for int() with base 10: 'quit'"
     ]
    }
   ],
   "source": [
    "din = \"\\nPlease enter a number\"\n",
    "din += \"\\nEnter 'quit' to end the program: \"\n",
    "\n",
    "message = \"\"\n",
    "while message != \"quit\":\n",
    "    message = int(input(din))\n",
    "    if din % 10 == 0:\n",
    "        print (\"the number is  a multiple of 10\")\n",
    "    else:\n",
    "        print (\"the number is a not multiple of 10\")\n",
    "    "
   ]
  },
  {
   "cell_type": "code",
   "execution_count": null,
   "metadata": {},
   "outputs": [],
   "source": [
    "user = input(\"Please enter your name\")\n",
    "print (\"Hello \"+ user.title() + \"!\")\n",
    "print (\"Welcome to AB-Motor Enterprise\")\n",
    "print (\"\\nEnter 'quit' to end the program\")\n",
    "\n",
    "while user != \"quit\":\n",
    "    user_spec = input(\"\\nWhat kind of car will you like?:\\n\")\n",
    "    print (\"\\nLet me see if I can find you a \"+ user_spec.title())\n",
    "    print (\"Please wait while I contact the marketing personnel.......\")"
   ]
  },
  {
   "cell_type": "code",
   "execution_count": 16,
   "metadata": {},
   "outputs": [
    {
     "data": {
      "text/plain": [
       "'ab3'"
      ]
     },
     "execution_count": 16,
     "metadata": {},
     "output_type": "execute_result"
    }
   ],
   "source": [
    "\"123\".replace(\"12\", \"ab\")"
   ]
  },
  {
   "cell_type": "code",
   "execution_count": 19,
   "metadata": {},
   "outputs": [
    {
     "name": "stdout",
     "output_type": "stream",
     "text": [
      "0\n",
      "1\n",
      "2\n",
      "3\n",
      "4\n",
      "5\n"
     ]
    }
   ],
   "source": [
    "x = 0\n",
    "while x < 6:\n",
    "    print(x)\n",
    "    x += 1"
   ]
  },
  {
   "cell_type": "code",
   "execution_count": 31,
   "metadata": {},
   "outputs": [
    {
     "name": "stdout",
     "output_type": "stream",
     "text": [
      "Enter number between 1 and 6:\n",
      "4\n",
      "Number is too small\n",
      "Enter number between 1 and 6:\n",
      "4\n",
      "Number is too small\n",
      "Enter number between 1 and 6:\n",
      "4\n",
      "Number is too small\n",
      "Enter number between 1 and 6:\n",
      "4\n",
      "Number is too small\n",
      "Enter number between 1 and 6:\n",
      "4\n",
      "Number is too small\n",
      "Enter number between 1 and 6:\n",
      "4\n",
      "Number is too small\n",
      "Enter number between 1 and 6:\n",
      "4\n",
      "Number is too small\n",
      "Enter number between 1 and 6:\n",
      "4\n",
      "Number is too small\n",
      "Enter number between 1 and 6:\n",
      "5\n",
      "Number is too small\n",
      "Enter number between 1 and 6:\n",
      "5\n",
      "Number is too small\n",
      "Enter number between 1 and 6:\n",
      "5\n",
      "Number is too small\n",
      "Enter number between 1 and 6:\n",
      "5\n",
      "Number is too small\n",
      "Enter number between 1 and 6:\n",
      "5\n",
      "Number is too small\n",
      "Enter number between 1 and 6:\n",
      "2\n",
      "Number is too small\n",
      "Enter number between 1 and 6:\n",
      "1\n",
      "Number is too small\n",
      "Enter number between 1 and 6:\n",
      "2\n",
      "Number is too small\n",
      "Enter number between 1 and 6:\n",
      "3\n",
      "Number is too small\n",
      "Enter number between 1 and 6:\n",
      "4\n",
      "Number is too small\n",
      "Enter number between 1 and 6:\n",
      "5\n",
      "Number is too small\n",
      "Enter number between 1 and 6:\n",
      "6\n",
      "Congrats\n"
     ]
    }
   ],
   "source": [
    "\n",
    "from random import randint\n",
    "\n",
    "n = randint(1,6) #n = random number\n",
    "a = 0\n",
    "while a != n:\n",
    "    a = int(input('Enter number between 1 and 6:\\n')) #a = your guess\n",
    "    if n > 0:\n",
    "        if a > n:\n",
    "            print('Number is too large')\n",
    "        elif a < n:\n",
    "            print('Number is too small')\n",
    "    else:\n",
    "        print('Enter a positive number between 1 and 6 next time')\n",
    "        \n",
    "else:\n",
    "    print('Congrats')\n"
   ]
  },
  {
   "cell_type": "code",
   "execution_count": 28,
   "metadata": {},
   "outputs": [
    {
     "name": "stdout",
     "output_type": "stream",
     "text": [
      "Enter number lets find the factorial:\n",
      "5\n",
      "120\n"
     ]
    }
   ],
   "source": [
    "# writing a factorial calculator code \n",
    "\n",
    "num = int(input('Enter number lets find the factorial:\\n'))\n",
    "factorial = 1\n",
    "\n",
    "if num < 0:\n",
    "    print('Enter positive number only')\n",
    "elif num == 0:\n",
    "    print('Factorial = 1')\n",
    "else:\n",
    "    for i in range(1, num + 1):\n",
    "        factorial = factorial * i\n",
    "    print(factorial)"
   ]
  },
  {
   "cell_type": "code",
   "execution_count": 29,
   "metadata": {},
   "outputs": [
    {
     "name": "stdout",
     "output_type": "stream",
     "text": [
      "Guess the number chosen by system\n",
      "7\n",
      "Your answer is too low! want to try again? Y/N\n",
      "Y\n",
      "Great! Choose a new number\n",
      "7\n",
      "Your answer is too low! want to try again? Y/N\n",
      "Y\n",
      "Great! Choose a new number\n",
      "67\n",
      "Your answer is too high! want to try again? Y/N\n",
      "Y\n",
      "Great! Choose a new number\n",
      "50\n",
      "Your answer is too high! want to try again? Y/N\n",
      "67\n",
      "Sorry! invalid input\n",
      "Your answer is too high! want to try again? Y/N\n",
      "N\n",
      "system guessed:9\n"
     ]
    }
   ],
   "source": [
    "import random\n",
    "r = random.randint(0,20)\n",
    "print (\"Guess the number chosen by system\")\n",
    "x = int(input())\n",
    "k = 0\n",
    "while k == 0:\n",
    "    if x == r:\n",
    "        print (\"wow! You chose the correct number\")\n",
    "        k=1\n",
    "    else:\n",
    "        if x < r:\n",
    "            print (\"Your answer is too low! want to try again? Y/N\")\n",
    "            a = input()\n",
    "            if a == 'N':\n",
    "                k=1\n",
    "                print (\"system guessed:\" + str(r))\n",
    "            elif a == \"Y\":\n",
    "                print (\"Great! Choose a new number\")\n",
    "                x = int(input())\n",
    "            else:\n",
    "                 print (\"Sorry! invalid input\")\n",
    "        if x > r:\n",
    "            print (\"Your answer is too high! want to try again? Y/N\")\n",
    "            a = input()\n",
    "            if a == \"N\":\n",
    "                k = 1\n",
    "                print (\"system guessed:\" + str(r))\n",
    "            elif a == \"Y\":\n",
    "                print (\"Great! Choose a new number\")\n",
    "                x = int(input())\n",
    "            else:\n",
    "                print (\"Sorry! invalid input\")"
   ]
  },
  {
   "cell_type": "code",
   "execution_count": null,
   "metadata": {},
   "outputs": [],
   "source": [
    "from random import randint\n",
    "secret_num = randint(1,100)\n",
    "num_guesses = 0 \n",
    "guess = 0\n",
    "while guess != secret_num and num_guesses <= 4: \n",
    "    guess = eval(input('Enter your guess (1-100): ')) \n",
    "    num_guesses = num_guesses + 1 \n",
    "    if guess < secret_num: \n",
    "        print('HIGHER.', 5-num_guesses, 'guesses left.\\n') \n",
    "    elif guess > secret_num: \n",
    "        print('LOWER.', 5-num_guesses, 'guesses left.\\n') \n",
    "    else: \n",
    "        print('You got it!')\n",
    "if num_guesses==5 and guess != secret_num:\n",
    "    print('You lose. The correct number is', secret_num)"
   ]
  },
  {
   "cell_type": "code",
   "execution_count": null,
   "metadata": {},
   "outputs": [],
   "source": []
  }
 ],
 "metadata": {
  "kernelspec": {
   "display_name": "Python 3",
   "language": "python",
   "name": "python3"
  },
  "language_info": {
   "codemirror_mode": {
    "name": "ipython",
    "version": 3
   },
   "file_extension": ".py",
   "mimetype": "text/x-python",
   "name": "python",
   "nbconvert_exporter": "python",
   "pygments_lexer": "ipython3",
   "version": "3.7.4"
  }
 },
 "nbformat": 4,
 "nbformat_minor": 2
}
