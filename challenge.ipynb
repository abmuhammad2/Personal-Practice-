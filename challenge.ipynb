{
 "cells": [
  {
   "cell_type": "code",
   "execution_count": null,
   "metadata": {},
   "outputs": [
    {
     "name": "stdout",
     "output_type": "stream",
     "text": [
      "Enter a temperature (-1000 to quit): 300\n",
      "In Fahrenheit that is 572.0\n"
     ]
    }
   ],
   "source": [
    "temp = 0 \n",
    "while temp!=-1000: \n",
    "    temp = eval(input('Enter a temperature (-1000 to quit): '))\n",
    "    if temp != -1000:\n",
    "        print('In Fahrenheit that is', 9/5*temp+32)\n",
    "    else:\n",
    "        (\"bye\")"
   ]
  },
  {
   "cell_type": "code",
   "execution_count": null,
   "metadata": {},
   "outputs": [],
   "source": [
    "for i in range(10): \n",
    "    num = eval(input('Enter number: '))\n",
    "    if num<0: \n",
    "        break"
   ]
  },
  {
   "cell_type": "code",
   "execution_count": null,
   "metadata": {},
   "outputs": [],
   "source": [
    "i=2 \n",
    "while i<num and num%i!=0: \n",
    "    i=i+1 \n",
    "if i==num: \n",
    "    print('Prime') \n",
    "else:\n",
    "    print('Not prime')\n"
   ]
  },
  {
   "cell_type": "code",
   "execution_count": null,
   "metadata": {},
   "outputs": [],
   "source": [
    "for i in range(2, num):\n",
    "    if num%i==0:  \n",
    "        print('Not prime') \n",
    "        break \n",
    "else: \n",
    "    print('Prime') \n"
   ]
  },
  {
   "cell_type": "code",
   "execution_count": null,
   "metadata": {},
   "outputs": [],
   "source": [
    "i = \"tomorrow\"\n",
    "for i in \"tomorrow\":\n",
    "    print (i)"
   ]
  },
  {
   "cell_type": "code",
   "execution_count": null,
   "metadata": {},
   "outputs": [],
   "source": [
    "favorite_languages1 = {\"jen\": [\"python\",\"java\"],\n",
    "                     \"sarah\":[\"c\"],\n",
    "                     \"wale\": [\"rubic\",\"snake\"],\n",
    "                     \"reece\":[\"jupiter\",\"kaggle\"]\n",
    "                     }\n",
    "for name,languages in favorite_languages1.items():\n",
    "    print (\"\\n\"+name.title()+ \"'s favorite languages are:\")\n",
    "    \n",
    "    for language in languages:\n",
    "        print (language)"
   ]
  },
  {
   "cell_type": "code",
   "execution_count": null,
   "metadata": {},
   "outputs": [],
   "source": [
    "favorite_languages1 = {\"jen\": [\"python\",\"java\"],\n",
    "                     \"sarah\":[\"c\"],\n",
    "                     \"wale\": [\"rubic\",\"snake\"],\n",
    "                     \"reece\":[\"jupiter\",\"kaggle\"]\n",
    "                     }\n",
    "for name,languages in favorite_languages1.items():\n",
    "    if len(languages) > 1:\n",
    "        print (\"\\n\"+name.title()+ \"'s favorite languages are:\")\n",
    "    else:\n",
    "        print (\"\\n\"+name.title()+ \"'s favorite language is:\")\n",
    "        \n",
    "    for language in languages:\n",
    "        print (\"\\t\"+language.title())"
   ]
  },
  {
   "cell_type": "code",
   "execution_count": null,
   "metadata": {},
   "outputs": [],
   "source": [
    "num = 1\n",
    "while num < 51:\n",
    "    print (num)\n",
    "    num = num +1"
   ]
  },
  {
   "cell_type": "code",
   "execution_count": 4,
   "metadata": {},
   "outputs": [
    {
     "name": "stdout",
     "output_type": "stream",
     "text": [
      "Guess the die number: 2\n",
      "your guessed was too low\n",
      "\n",
      "Guess the die number: 3\n",
      "you got it\n"
     ]
    }
   ],
   "source": [
    "# while loop example: while loop is used when we don't know the possible number of iterations\n",
    "\n",
    "#Guessing die game\n",
    "\n",
    "from random import randint \n",
    "\n",
    "n = randint(1,6)\n",
    "\n",
    "k = 0\n",
    "while k != n:\n",
    "    x = int(input(\"Guess the die number: \"))\n",
    "\n",
    "    if x < n:\n",
    "        print (\"your guessed was too low\\n\")\n",
    "       \n",
    "    elif x > n:\n",
    "        print (\"your guessed was too high\\n\")\n",
    "        \n",
    "    else:\n",
    "        print(\"you got it\")\n",
    "        break\n"
   ]
  },
  {
   "cell_type": "code",
   "execution_count": null,
   "metadata": {},
   "outputs": [],
   "source": [
    "# writing a factorial calculator code \n",
    "\n",
    "number = int(input(\"Enter any number, lets find the factorial: \"))\n",
    "factorial = 1\n",
    "\n",
    "if number < 0: \n",
    "    print(\"Invalid input, Kindly enter a positive number\")\n",
    "    \n",
    "elif number == 0:\n",
    "    print (\"Factorial = 1\")\n",
    "    \n",
    "elif number > 0:\n",
    "    \n",
    "    for num in range (1,number+1):\n",
    "        factorial = factorial * num\n",
    "    print (factorial)"
   ]
  },
  {
   "cell_type": "code",
   "execution_count": 6,
   "metadata": {},
   "outputs": [
    {
     "data": {
      "text/plain": [
       "'ajose is \\\\ a boy'"
      ]
     },
     "execution_count": 6,
     "metadata": {},
     "output_type": "execute_result"
    }
   ],
   "source": [
    "A = \"micheal is \\\\ a boy\"\n",
    "b = A.replace(\"micheal\",\"ajose\")\n",
    "b"
   ]
  },
  {
   "cell_type": "code",
   "execution_count": 7,
   "metadata": {},
   "outputs": [
    {
     "data": {
      "text/plain": [
       "-1"
      ]
     },
     "execution_count": 7,
     "metadata": {},
     "output_type": "execute_result"
    }
   ],
   "source": [
    "Name = \"micheal jackson\"\n",
    "Name.find(\"el\") #displayed -1 because the string \"el\" is not in micheal jackson\n"
   ]
  },
  {
   "cell_type": "code",
   "execution_count": 8,
   "metadata": {},
   "outputs": [
    {
     "data": {
      "text/plain": [
       "4"
      ]
     },
     "execution_count": 8,
     "metadata": {},
     "output_type": "execute_result"
    }
   ],
   "source": [
    "Name.find(\"ea\")"
   ]
  },
  {
   "cell_type": "code",
   "execution_count": 10,
   "metadata": {},
   "outputs": [
    {
     "data": {
      "text/plain": [
       "8"
      ]
     },
     "execution_count": 10,
     "metadata": {},
     "output_type": "execute_result"
    }
   ],
   "source": [
    "Name.find(\"jack\")"
   ]
  },
  {
   "cell_type": "code",
   "execution_count": 11,
   "metadata": {},
   "outputs": [
    {
     "data": {
      "text/plain": [
       "2"
      ]
     },
     "execution_count": 11,
     "metadata": {},
     "output_type": "execute_result"
    }
   ],
   "source": [
    "d = (1,2,3) #tuple\n",
    "d[1]    #index"
   ]
  },
  {
   "cell_type": "code",
   "execution_count": 12,
   "metadata": {},
   "outputs": [],
   "source": [
    "#tuple\n",
    "# accessing values in tuple using index\n",
    "NT = (1,2,('a',\"b\"),3,(1,(\"r\",\"t\")))\n"
   ]
  },
  {
   "cell_type": "code",
   "execution_count": 20,
   "metadata": {},
   "outputs": [
    {
     "data": {
      "text/plain": [
       "('a', 'b')"
      ]
     },
     "execution_count": 20,
     "metadata": {},
     "output_type": "execute_result"
    }
   ],
   "source": [
    "NT[2]"
   ]
  },
  {
   "cell_type": "code",
   "execution_count": 21,
   "metadata": {},
   "outputs": [
    {
     "data": {
      "text/plain": [
       "'b'"
      ]
     },
     "execution_count": 21,
     "metadata": {},
     "output_type": "execute_result"
    }
   ],
   "source": [
    "NT[2][1]"
   ]
  },
  {
   "cell_type": "code",
   "execution_count": 22,
   "metadata": {},
   "outputs": [
    {
     "data": {
      "text/plain": [
       "('r', 't')"
      ]
     },
     "execution_count": 22,
     "metadata": {},
     "output_type": "execute_result"
    }
   ],
   "source": [
    "NT[4][1]"
   ]
  },
  {
   "cell_type": "code",
   "execution_count": 23,
   "metadata": {},
   "outputs": [
    {
     "data": {
      "text/plain": [
       "'r'"
      ]
     },
     "execution_count": 23,
     "metadata": {},
     "output_type": "execute_result"
    }
   ],
   "source": [
    "NT[4][1][0]"
   ]
  },
  {
   "cell_type": "code",
   "execution_count": 25,
   "metadata": {},
   "outputs": [],
   "source": [
    "T = [1,2,3,4]\n"
   ]
  },
  {
   "cell_type": "code",
   "execution_count": 27,
   "metadata": {},
   "outputs": [
    {
     "data": {
      "text/plain": [
       "[1, 2, 3, 4, 5, 6, 7]"
      ]
     },
     "execution_count": 27,
     "metadata": {},
     "output_type": "execute_result"
    }
   ],
   "source": [
    "T.extend([5,6,7]) #TO ADD MORE THAN VALUE\n",
    "T"
   ]
  },
  {
   "cell_type": "code",
   "execution_count": 29,
   "metadata": {},
   "outputs": [
    {
     "data": {
      "text/plain": [
       "[1, 2, 3, 4, 5, 6, 7, [8, 9]]"
      ]
     },
     "execution_count": 29,
     "metadata": {},
     "output_type": "execute_result"
    }
   ],
   "source": [
    "T.append([8,9]) #to add one value\n",
    "T"
   ]
  },
  {
   "cell_type": "code",
   "execution_count": 30,
   "metadata": {},
   "outputs": [
    {
     "data": {
      "text/plain": [
       "['guide', 'me', 'GOD']"
      ]
     },
     "execution_count": 30,
     "metadata": {},
     "output_type": "execute_result"
    }
   ],
   "source": [
    "#convert strings to list using split\n",
    "\"guide me GOD\".split()\n"
   ]
  },
  {
   "cell_type": "code",
   "execution_count": 31,
   "metadata": {},
   "outputs": [
    {
     "data": {
      "text/plain": [
       "['A,B,C,D']"
      ]
     },
     "execution_count": 31,
     "metadata": {},
     "output_type": "execute_result"
    }
   ],
   "source": [
    "\"A,B,C,D\".split()"
   ]
  },
  {
   "cell_type": "code",
   "execution_count": 32,
   "metadata": {},
   "outputs": [
    {
     "data": {
      "text/plain": [
       "['A', 'B', 'C', 'D']"
      ]
     },
     "execution_count": 32,
     "metadata": {},
     "output_type": "execute_result"
    }
   ],
   "source": [
    "\"A,B,C,D\".split(\",\")"
   ]
  },
  {
   "cell_type": "code",
   "execution_count": 33,
   "metadata": {},
   "outputs": [
    {
     "data": {
      "text/plain": [
       "[1, 2, 3, 'A']"
      ]
     },
     "execution_count": 33,
     "metadata": {},
     "output_type": "execute_result"
    }
   ],
   "source": [
    "#Aliasing ----> multiple names for one list value\n",
    "\n",
    "A = [1,2,3,\"A\"]\n",
    "B = A\n",
    "B\n",
    "# A and B are referencing the same list (if you change any value of list A, it will affect list B and vis visa)\n",
    "# to prevent the situation  describe above you need to clone A"
   ]
  },
  {
   "cell_type": "code",
   "execution_count": 38,
   "metadata": {},
   "outputs": [
    {
     "name": "stdout",
     "output_type": "stream",
     "text": [
      "[1, 2, 3, 'A']\n",
      "[5, 2, 3, 'A']\n",
      "[1, 2, 3, 'A']\n"
     ]
    }
   ],
   "source": [
    "# Cloning A \n",
    "A = [1,2,3,\"A\"]\n",
    "B = A[:]\n",
    "print(B)\n",
    "\n",
    "B[0] = 5\n",
    "print (B) # we change a value in B but does not change A value\n",
    "print (A)\n",
    "\n"
   ]
  },
  {
   "cell_type": "code",
   "execution_count": 39,
   "metadata": {},
   "outputs": [
    {
     "name": "stdout",
     "output_type": "stream",
     "text": [
      "Help on list object:\n",
      "\n",
      "class list(object)\n",
      " |  list(iterable=(), /)\n",
      " |  \n",
      " |  Built-in mutable sequence.\n",
      " |  \n",
      " |  If no argument is given, the constructor creates a new empty list.\n",
      " |  The argument must be an iterable if specified.\n",
      " |  \n",
      " |  Methods defined here:\n",
      " |  \n",
      " |  __add__(self, value, /)\n",
      " |      Return self+value.\n",
      " |  \n",
      " |  __contains__(self, key, /)\n",
      " |      Return key in self.\n",
      " |  \n",
      " |  __delitem__(self, key, /)\n",
      " |      Delete self[key].\n",
      " |  \n",
      " |  __eq__(self, value, /)\n",
      " |      Return self==value.\n",
      " |  \n",
      " |  __ge__(self, value, /)\n",
      " |      Return self>=value.\n",
      " |  \n",
      " |  __getattribute__(self, name, /)\n",
      " |      Return getattr(self, name).\n",
      " |  \n",
      " |  __getitem__(...)\n",
      " |      x.__getitem__(y) <==> x[y]\n",
      " |  \n",
      " |  __gt__(self, value, /)\n",
      " |      Return self>value.\n",
      " |  \n",
      " |  __iadd__(self, value, /)\n",
      " |      Implement self+=value.\n",
      " |  \n",
      " |  __imul__(self, value, /)\n",
      " |      Implement self*=value.\n",
      " |  \n",
      " |  __init__(self, /, *args, **kwargs)\n",
      " |      Initialize self.  See help(type(self)) for accurate signature.\n",
      " |  \n",
      " |  __iter__(self, /)\n",
      " |      Implement iter(self).\n",
      " |  \n",
      " |  __le__(self, value, /)\n",
      " |      Return self<=value.\n",
      " |  \n",
      " |  __len__(self, /)\n",
      " |      Return len(self).\n",
      " |  \n",
      " |  __lt__(self, value, /)\n",
      " |      Return self<value.\n",
      " |  \n",
      " |  __mul__(self, value, /)\n",
      " |      Return self*value.\n",
      " |  \n",
      " |  __ne__(self, value, /)\n",
      " |      Return self!=value.\n",
      " |  \n",
      " |  __repr__(self, /)\n",
      " |      Return repr(self).\n",
      " |  \n",
      " |  __reversed__(self, /)\n",
      " |      Return a reverse iterator over the list.\n",
      " |  \n",
      " |  __rmul__(self, value, /)\n",
      " |      Return value*self.\n",
      " |  \n",
      " |  __setitem__(self, key, value, /)\n",
      " |      Set self[key] to value.\n",
      " |  \n",
      " |  __sizeof__(self, /)\n",
      " |      Return the size of the list in memory, in bytes.\n",
      " |  \n",
      " |  append(self, object, /)\n",
      " |      Append object to the end of the list.\n",
      " |  \n",
      " |  clear(self, /)\n",
      " |      Remove all items from list.\n",
      " |  \n",
      " |  copy(self, /)\n",
      " |      Return a shallow copy of the list.\n",
      " |  \n",
      " |  count(self, value, /)\n",
      " |      Return number of occurrences of value.\n",
      " |  \n",
      " |  extend(self, iterable, /)\n",
      " |      Extend list by appending elements from the iterable.\n",
      " |  \n",
      " |  index(self, value, start=0, stop=9223372036854775807, /)\n",
      " |      Return first index of value.\n",
      " |      \n",
      " |      Raises ValueError if the value is not present.\n",
      " |  \n",
      " |  insert(self, index, object, /)\n",
      " |      Insert object before index.\n",
      " |  \n",
      " |  pop(self, index=-1, /)\n",
      " |      Remove and return item at index (default last).\n",
      " |      \n",
      " |      Raises IndexError if list is empty or index is out of range.\n",
      " |  \n",
      " |  remove(self, value, /)\n",
      " |      Remove first occurrence of value.\n",
      " |      \n",
      " |      Raises ValueError if the value is not present.\n",
      " |  \n",
      " |  reverse(self, /)\n",
      " |      Reverse *IN PLACE*.\n",
      " |  \n",
      " |  sort(self, /, *, key=None, reverse=False)\n",
      " |      Stable sort *IN PLACE*.\n",
      " |  \n",
      " |  ----------------------------------------------------------------------\n",
      " |  Static methods defined here:\n",
      " |  \n",
      " |  __new__(*args, **kwargs) from builtins.type\n",
      " |      Create and return a new object.  See help(type) for accurate signature.\n",
      " |  \n",
      " |  ----------------------------------------------------------------------\n",
      " |  Data and other attributes defined here:\n",
      " |  \n",
      " |  __hash__ = None\n",
      "\n"
     ]
    }
   ],
   "source": [
    "help(A)"
   ]
  },
  {
   "cell_type": "code",
   "execution_count": 56,
   "metadata": {},
   "outputs": [
    {
     "name": "stdout",
     "output_type": "stream",
     "text": [
      "{'b', 'a', 'c', 'g', 'd', 'e', 'f'}\n"
     ]
    }
   ],
   "source": [
    "# to define a set, we use curly bracket\n",
    "\n",
    "alpha = {\"a\",\"b\",\"c\",\"d\",\"e\",\"g\",\"f\",\"a\",\"b\"}\n",
    "\n",
    "print(alpha)\n",
    "\n",
    "# set is use to remove duplicate items \n",
    "# the output is not in order, to prevent this we use \"sorted\", see below for example"
   ]
  },
  {
   "cell_type": "code",
   "execution_count": 57,
   "metadata": {},
   "outputs": [
    {
     "name": "stdout",
     "output_type": "stream",
     "text": [
      "['a', 'b', 'c', 'd', 'e', 'f', 'g']\n"
     ]
    }
   ],
   "source": [
    "alpha = {\"a\",\"b\",\"c\",\"d\",\"e\",\"g\",\"f\"}\n",
    "alpha1 = sorted(alpha)\n",
    "print(alpha1)"
   ]
  },
  {
   "cell_type": "code",
   "execution_count": 58,
   "metadata": {},
   "outputs": [
    {
     "name": "stdout",
     "output_type": "stream",
     "text": [
      "{'b', 'a', 'c', 'g', 'd', 'e', 'f'}\n"
     ]
    }
   ],
   "source": [
    "#  you can also convert a list to set to remove dulicate using \"set\" as shown below\n",
    "\n",
    "alpha = [\"a\",\"b\",\"c\",\"d\",\"e\",\"g\",\"f\",\"a\",\"b\"]\n",
    "alpha1 = set(alpha)\n",
    "print(alpha1)\n"
   ]
  },
  {
   "cell_type": "code",
   "execution_count": 68,
   "metadata": {},
   "outputs": [
    {
     "data": {
      "text/plain": [
       "{'a', 'm', 's', 't', 'u'}"
      ]
     },
     "execution_count": 68,
     "metadata": {},
     "output_type": "execute_result"
    }
   ],
   "source": [
    "# we can add and remove in a set, mind you can add same item twice as set does not allow duplicate items\n",
    "mustapha = {\"m\",\"u\",\"s\",\"t\"}\n",
    "mustapha.add(\"a\")\n",
    "mustapha"
   ]
  },
  {
   "cell_type": "code",
   "execution_count": 69,
   "metadata": {},
   "outputs": [
    {
     "data": {
      "text/plain": [
       "{'m', 's', 't', 'u'}"
      ]
     },
     "execution_count": 69,
     "metadata": {},
     "output_type": "execute_result"
    }
   ],
   "source": [
    "mustapha.remove(\"a\")\n",
    "mustapha"
   ]
  },
  {
   "cell_type": "code",
   "execution_count": 71,
   "metadata": {},
   "outputs": [
    {
     "name": "stdout",
     "output_type": "stream",
     "text": [
      "{3, 4, 5}\n"
     ]
    }
   ],
   "source": [
    "# using a set mathematically or as venn diagram\n",
    "album_set1 = {1,2,3,4,5}\n",
    "album_set2 = {3,4,5,6,7}\n",
    "\n",
    "#to find their intersection use \"&\"\n",
    "album_set3 = album_set1 & album_set2\n",
    "print (album_set3)\n"
   ]
  },
  {
   "cell_type": "code",
   "execution_count": 74,
   "metadata": {},
   "outputs": [
    {
     "name": "stdout",
     "output_type": "stream",
     "text": [
      "{1, 2, 3, 4, 5, 6, 7}\n"
     ]
    }
   ],
   "source": [
    "# to find their union use union use \".union\"\n",
    "album_set3 = album_set1.union(album_set2)\n",
    "print (album_set3)\n"
   ]
  },
  {
   "cell_type": "code",
   "execution_count": 75,
   "metadata": {},
   "outputs": [
    {
     "data": {
      "text/plain": [
       "True"
      ]
     },
     "execution_count": 75,
     "metadata": {},
     "output_type": "execute_result"
    }
   ],
   "source": [
    "# to know if a set is a subset of another you use \".issubset\"\n",
    "album_set1.issubset(album_set3)"
   ]
  },
  {
   "cell_type": "code",
   "execution_count": 76,
   "metadata": {},
   "outputs": [
    {
     "data": {
      "text/plain": [
       "True"
      ]
     },
     "execution_count": 76,
     "metadata": {},
     "output_type": "execute_result"
    }
   ],
   "source": [
    "album_set2.issubset(album_set3)"
   ]
  },
  {
   "cell_type": "code",
   "execution_count": 77,
   "metadata": {},
   "outputs": [
    {
     "data": {
      "text/plain": [
       "False"
      ]
     },
     "execution_count": 77,
     "metadata": {},
     "output_type": "execute_result"
    }
   ],
   "source": [
    "album_set3.issubset(album_set1)"
   ]
  },
  {
   "cell_type": "code",
   "execution_count": 78,
   "metadata": {},
   "outputs": [
    {
     "data": {
      "text/plain": [
       "True"
      ]
     },
     "execution_count": 78,
     "metadata": {},
     "output_type": "execute_result"
    }
   ],
   "source": [
    "album_set3.issuperset(album_set1)"
   ]
  },
  {
   "cell_type": "code",
   "execution_count": 85,
   "metadata": {},
   "outputs": [
    {
     "data": {
      "text/plain": [
       "range(0, 12)"
      ]
     },
     "execution_count": 85,
     "metadata": {},
     "output_type": "execute_result"
    }
   ],
   "source": [
    "range (12)"
   ]
  },
  {
   "cell_type": "code",
   "execution_count": 111,
   "metadata": {},
   "outputs": [
    {
     "name": "stdout",
     "output_type": "stream",
     "text": [
      "['white', 'orange', 'yellow', 'green']\n",
      "['white', 'white', 'yellow', 'green']\n",
      "['white', 'white', 'white', 'green']\n",
      "['white', 'white', 'white', 'white']\n",
      "\n",
      " ['white', 'white', 'white', 'white']\n"
     ]
    }
   ],
   "source": [
    "colours = [\"red\",\"orange\",\"yellow\",\"green\"]\n",
    "\n",
    "for i in range (0,4):\n",
    "    colours[i] = \"white\"\n",
    "    print (colours) # to replace the color each\n",
    "    \n",
    "print (\"\\n\",colours) # to replace the colors at once"
   ]
  },
  {
   "cell_type": "code",
   "execution_count": 94,
   "metadata": {},
   "outputs": [
    {
     "name": "stdout",
     "output_type": "stream",
     "text": [
      "['red', 'orange', 'yellow', 'green']\n",
      "['red', 'orange', 'yellow', 'green']\n",
      "['red', 'orange', 'yellow', 'green']\n",
      "['red', 'orange', 'yellow', 'green']\n"
     ]
    }
   ],
   "source": [
    "colours = [\"red\",\"orange\",\"yellow\",\"green\"]\n",
    "\n",
    "for colour in range (0,4):\n",
    "    \n",
    "    print (colours)"
   ]
  },
  {
   "cell_type": "code",
   "execution_count": 98,
   "metadata": {},
   "outputs": [
    {
     "name": "stdout",
     "output_type": "stream",
     "text": [
      "red\n",
      "orange\n",
      "yellow\n",
      "green\n"
     ]
    }
   ],
   "source": [
    "colours = [\"red\",\"orange\",\"yellow\",\"green\"]\n",
    "\n",
    "for colour in colours:\n",
    "    \n",
    "    print (colour)"
   ]
  },
  {
   "cell_type": "code",
   "execution_count": 102,
   "metadata": {},
   "outputs": [
    {
     "name": "stdout",
     "output_type": "stream",
     "text": [
      "0 red\n",
      "1 orange\n",
      "2 yellow\n",
      "3 green\n"
     ]
    }
   ],
   "source": [
    "colours = [\"red\",\"orange\",\"yellow\",\"green\"]\n",
    "\n",
    "for i,colour in enumerate(colours):\n",
    "    \n",
    "    print (i,colour)"
   ]
  },
  {
   "cell_type": "code",
   "execution_count": 107,
   "metadata": {},
   "outputs": [
    {
     "name": "stdout",
     "output_type": "stream",
     "text": [
      "['red', 'red', 'red']\n"
     ]
    }
   ],
   "source": [
    "colours = [\"red\",\"red\",\"red\",\"orange\",\"yellow\",\"green\"]\n",
    "\n",
    "colours1 = []\n",
    "i = 0\n",
    "\n",
    "while colours[i] == \"red\":\n",
    "    colours1.append(colours[i])\n",
    "    i = i+1\n",
    "print(colours1)"
   ]
  },
  {
   "cell_type": "code",
   "execution_count": 126,
   "metadata": {},
   "outputs": [
    {
     "data": {
      "text/plain": [
       "1"
      ]
     },
     "execution_count": 126,
     "metadata": {},
     "output_type": "execute_result"
    }
   ],
   "source": [
    "# building your own function\n",
    "def sum1(value1,value2):\n",
    "    summation = value1 + value2\n",
    "    return summation\n",
    "sum1 (1,0)"
   ]
  },
  {
   "cell_type": "code",
   "execution_count": 124,
   "metadata": {},
   "outputs": [
    {
     "data": {
      "text/plain": [
       "3"
      ]
     },
     "execution_count": 124,
     "metadata": {},
     "output_type": "execute_result"
    }
   ],
   "source": [
    "def product1 (value1,value2):\n",
    "    multiplication = value1 * value2\n",
    "    return multiplication\n",
    "product (1,3)"
   ]
  },
  {
   "cell_type": "code",
   "execution_count": 132,
   "metadata": {},
   "outputs": [
    {
     "name": "stdout",
     "output_type": "stream",
     "text": [
      "msudh\n"
     ]
    }
   ],
   "source": [
    "def mj ():\n",
    "    print (\"msudh\")\n",
    "mj()"
   ]
  },
  {
   "cell_type": "code",
   "execution_count": 153,
   "metadata": {},
   "outputs": [
    {
     "name": "stdout",
     "output_type": "stream",
     "text": [
      "None\n"
     ]
    }
   ],
   "source": [
    "def mj ():\n",
    "    pass\n",
    "print (mj())\n"
   ]
  },
  {
   "cell_type": "code",
   "execution_count": 159,
   "metadata": {},
   "outputs": [
    {
     "name": "stdout",
     "output_type": "stream",
     "text": [
      "Album 0 rating is 10\n",
      "Album 1 rating is 9\n",
      "Album 2 rating is 8.5\n",
      "Album 3 rating is 6\n"
     ]
    }
   ],
   "source": [
    "def printStuff (stuff):\n",
    "    for i,s in enumerate(stuff):\n",
    "        print(\"Album\",i, \"rating is\", s )\n",
    "        \n",
    "album_ratings = [10,9,8.5,6]\n",
    "printStuff(album_ratings)"
   ]
  },
  {
   "cell_type": "code",
   "execution_count": 161,
   "metadata": {},
   "outputs": [
    {
     "name": "stdout",
     "output_type": "stream",
     "text": [
      "Album 0 rating is 10\n",
      "Album 1 rating is 9\n",
      "Album 2 rating is 8.5\n",
      "Album 3 rating is 0\n"
     ]
    }
   ],
   "source": [
    "album_ratings = [10,9,8.5,0]\n",
    "\n",
    "def printStuff (stuff):\n",
    "    for i,s in enumerate(stuff):\n",
    "        print(\"Album\",i, \"rating is\", s )\n",
    "\n",
    "printStuff(album_ratings)"
   ]
  },
  {
   "cell_type": "code",
   "execution_count": 167,
   "metadata": {},
   "outputs": [
    {
     "name": "stdout",
     "output_type": "stream",
     "text": [
      "ajose\n",
      "awwal\n"
     ]
    }
   ],
   "source": [
    "def artistname (*names):\n",
    "    for name in names:\n",
    "        print(name)\n",
    "\n",
    "artistname(\"ajose\",\"awwal\")"
   ]
  },
  {
   "cell_type": "code",
   "execution_count": 172,
   "metadata": {},
   "outputs": [
    {
     "name": "stdout",
     "output_type": "stream",
     "text": [
      "1975\n",
      "2007\n"
     ]
    }
   ],
   "source": [
    "# global scope and local scope\n",
    "\n",
    "def trailer():\n",
    "    name = 1975 #local scope\n",
    "    return name\n",
    "\n",
    "name = 2007 # global scope does not disturb the local scope\n",
    "\n",
    "print (trailer())\n",
    "\n",
    "print (name)\n"
   ]
  },
  {
   "cell_type": "code",
   "execution_count": 173,
   "metadata": {},
   "outputs": [
    {
     "name": "stdout",
     "output_type": "stream",
     "text": [
      "2007\n",
      "2007\n"
     ]
    }
   ],
   "source": [
    "# if the local scope value is not define the global value will takeover the spot \n",
    "def trailer():\n",
    "    \n",
    "    return name\n",
    "\n",
    "name = 2007 # global scope takes over the local scope spot \n",
    "\n",
    "print (trailer())\n",
    "\n",
    "print (name)\n"
   ]
  },
  {
   "cell_type": "code",
   "execution_count": 182,
   "metadata": {},
   "outputs": [
    {
     "name": "stdout",
     "output_type": "stream",
     "text": [
      "10\n",
      "9\n"
     ]
    }
   ],
   "source": [
    "def add(y):\n",
    "    print(ratings+y)\n",
    "    return(ratings+y)\n",
    "\n",
    "ratings = 9 #global scope\n",
    "Z = add(1)\n",
    "\n",
    "print (ratings)\n"
   ]
  },
  {
   "cell_type": "code",
   "execution_count": 39,
   "metadata": {},
   "outputs": [
    {
     "name": "stdout",
     "output_type": "stream",
     "text": [
      "10\n",
      "red\n"
     ]
    }
   ],
   "source": [
    "class Circle:\n",
    "    \n",
    "    def __init__ (self,color,radius):\n",
    "        self.radius = radius\n",
    "        self.color = color\n",
    "        \n",
    "C1 = Circle(\"red\", 10)\n",
    "\n",
    "print (C1.radius)\n",
    "\n",
    "print (C1.color)\n",
    "\n"
   ]
  },
  {
   "cell_type": "code",
   "execution_count": 87,
   "metadata": {},
   "outputs": [
    {
     "ename": "AttributeError",
     "evalue": "'Circle' object has no attribute 'drawCircle'",
     "output_type": "error",
     "traceback": [
      "\u001b[1;31m---------------------------------------------------------------------------\u001b[0m",
      "\u001b[1;31mAttributeError\u001b[0m                            Traceback (most recent call last)",
      "\u001b[1;32m<ipython-input-87-42534cb30031>\u001b[0m in \u001b[0;36m<module>\u001b[1;34m\u001b[0m\n\u001b[0;32m      8\u001b[0m \u001b[0mC1\u001b[0m \u001b[1;33m=\u001b[0m \u001b[0mCircle\u001b[0m\u001b[1;33m(\u001b[0m\u001b[1;34m\"red\"\u001b[0m\u001b[1;33m,\u001b[0m \u001b[1;36m10\u001b[0m\u001b[1;33m)\u001b[0m\u001b[1;33m\u001b[0m\u001b[1;33m\u001b[0m\u001b[0m\n\u001b[0;32m      9\u001b[0m \u001b[0mC1\u001b[0m\u001b[1;33m.\u001b[0m\u001b[0mradius\u001b[0m\u001b[1;33m\u001b[0m\u001b[1;33m\u001b[0m\u001b[0m\n\u001b[1;32m---> 10\u001b[1;33m \u001b[0mC1\u001b[0m\u001b[1;33m.\u001b[0m\u001b[0mdrawCircle\u001b[0m\u001b[1;33m(\u001b[0m\u001b[1;33m)\u001b[0m\u001b[1;33m\u001b[0m\u001b[1;33m\u001b[0m\u001b[0m\n\u001b[0m",
      "\u001b[1;31mAttributeError\u001b[0m: 'Circle' object has no attribute 'drawCircle'"
     ]
    }
   ],
   "source": [
    "class Circle:\n",
    "    \n",
    "    def __init__ (self,color,radius):\n",
    "        self.radius = radius\n",
    "        self.color = color\n",
    "        def drawCircle (self,color,radius):\n",
    "            C1 = Circle(color,radius)\n",
    "C1 = Circle(\"red\", 10)\n",
    "C1.radius\n",
    "C1.drawCircle()"
   ]
  },
  {
   "cell_type": "code",
   "execution_count": 93,
   "metadata": {},
   "outputs": [
    {
     "data": {
      "text/plain": [
       "{3, 4}"
      ]
     },
     "execution_count": 93,
     "metadata": {},
     "output_type": "execute_result"
    }
   ],
   "source": [
    "a= {1,2}\n",
    "A = [3,4]\n",
    "a=set(A)\n",
    "a"
   ]
  },
  {
   "cell_type": "code",
   "execution_count": 94,
   "metadata": {},
   "outputs": [
    {
     "data": {
      "text/plain": [
       "True"
      ]
     },
     "execution_count": 94,
     "metadata": {},
     "output_type": "execute_result"
    }
   ],
   "source": [
    "x = 1\n",
    "x > -5"
   ]
  },
  {
   "cell_type": "code",
   "execution_count": 95,
   "metadata": {},
   "outputs": [
    {
     "name": "stdout",
     "output_type": "stream",
     "text": [
      "0\n",
      "1\n"
     ]
    }
   ],
   "source": [
    "x=0\n",
    "while(x<2):\n",
    "  print(x)\n",
    "  x=x+1"
   ]
  },
  {
   "cell_type": "code",
   "execution_count": 96,
   "metadata": {},
   "outputs": [
    {
     "name": "stdout",
     "output_type": "stream",
     "text": [
      "101\n"
     ]
    }
   ],
   "source": [
    "a=1\n",
    "\n",
    "def do(x):\n",
    "    a=100\n",
    "    return(x+a)\n",
    "\n",
    "print(do(1))"
   ]
  },
  {
   "cell_type": "code",
   "execution_count": 101,
   "metadata": {},
   "outputs": [],
   "source": [
    "def hello():\n",
    "    \n",
    "    print(\"hello\")"
   ]
  },
  {
   "cell_type": "code",
   "execution_count": 103,
   "metadata": {},
   "outputs": [
    {
     "data": {
      "text/plain": [
       "3"
      ]
     },
     "execution_count": 103,
     "metadata": {},
     "output_type": "execute_result"
    }
   ],
   "source": [
    "def add(a,b):\n",
    "  \n",
    "  return a+b\n",
    "add (1,2)"
   ]
  },
  {
   "cell_type": "code",
   "execution_count": 115,
   "metadata": {},
   "outputs": [],
   "source": [
    "\n",
    "class Circle:\n",
    "    \n",
    "    def __init__ (self,color,radius):\n",
    "        self.radius = 2;\n",
    "        self.color = \"red\";\n",
    "\n",
    "    def add_radius (self,r):\n",
    "        self.radius = self.radius + 8\n",
    "        return (self.radius)\n",
    "\n",
    "\n",
    "\n",
    "\n",
    "\n",
    "\n"
   ]
  },
  {
   "cell_type": "code",
   "execution_count": 120,
   "metadata": {},
   "outputs": [
    {
     "data": {
      "text/plain": [
       "['WHITE_PAWN',\n",
       " 'WHITE_PAWN',\n",
       " 'WHITE_PAWN',\n",
       " 'WHITE_PAWN',\n",
       " 'WHITE_PAWN',\n",
       " 'WHITE_PAWN',\n",
       " 'WHITE_PAWN',\n",
       " 'WHITE_PAWN']"
      ]
     },
     "execution_count": 120,
     "metadata": {},
     "output_type": "execute_result"
    }
   ],
   "source": [
    "row = []\n",
    "for i in range (8):\n",
    "    row.append(\"WHITE_PAWN\")\n",
    "row"
   ]
  },
  {
   "cell_type": "code",
   "execution_count": 116,
   "metadata": {},
   "outputs": [
    {
     "name": "stdout",
     "output_type": "stream",
     "text": [
      "x= A  y= 2\n"
     ]
    }
   ],
   "source": [
    "class Points(object):\n",
    "\n",
    "  def __init__(self,x,y):\n",
    "\n",
    "    self.x=x\n",
    "    self.y=y\n",
    "\n",
    "  def print_point(self):\n",
    "\n",
    "    print('x=',self.x,' y=',self.y)\n",
    "\n",
    "p2=Points(1,2)\n",
    "\n",
    "p2.x='A'\n",
    "\n",
    "p2.print_point()"
   ]
  },
  {
   "cell_type": "code",
   "execution_count": 109,
   "metadata": {},
   "outputs": [
    {
     "ename": "AttributeError",
     "evalue": "type object 'Rectangle' has no attribute 'height'",
     "output_type": "error",
     "traceback": [
      "\u001b[1;31m---------------------------------------------------------------------------\u001b[0m",
      "\u001b[1;31mAttributeError\u001b[0m                            Traceback (most recent call last)",
      "\u001b[1;32m<ipython-input-109-99ff7764024b>\u001b[0m in \u001b[0;36m<module>\u001b[1;34m\u001b[0m\n\u001b[0;32m      6\u001b[0m         \u001b[0mself\u001b[0m\u001b[1;33m.\u001b[0m\u001b[0mcolor\u001b[0m\u001b[1;33m=\u001b[0m\u001b[0mcolor\u001b[0m\u001b[1;33m\u001b[0m\u001b[1;33m\u001b[0m\u001b[0m\n\u001b[0;32m      7\u001b[0m \u001b[1;33m\u001b[0m\u001b[0m\n\u001b[1;32m----> 8\u001b[1;33m \u001b[0mRectangle\u001b[0m\u001b[1;33m.\u001b[0m\u001b[0mheight\u001b[0m\u001b[1;33m\u001b[0m\u001b[1;33m\u001b[0m\u001b[0m\n\u001b[0m\u001b[0;32m      9\u001b[0m \u001b[1;33m\u001b[0m\u001b[0m\n\u001b[0;32m     10\u001b[0m \u001b[1;33m\u001b[0m\u001b[0m\n",
      "\u001b[1;31mAttributeError\u001b[0m: type object 'Rectangle' has no attribute 'height'"
     ]
    }
   ],
   "source": [
    "class Rectangle(object):\n",
    "    \n",
    "    def __init__(self,width=2,height =3,color='r'):\n",
    "        self.height=height \n",
    "        self.width=width\n",
    "        self.color=color\n",
    "    \n",
    "    def drawRectangle(self):\n",
    "        import matplotlib.pyplot as plt\n",
    "        plt.gca().add_patch(plt.Rectangle((0, 0),self.width, self.height ,fc=self.color))\n",
    "        plt.axis('scaled')\n",
    "        plt.show()"
   ]
  },
  {
   "cell_type": "code",
   "execution_count": 110,
   "metadata": {},
   "outputs": [
    {
     "name": "stdout",
     "output_type": "stream",
     "text": [
      "x= 1  y= 2\n"
     ]
    }
   ],
   "source": [
    "class Points(object):\n",
    "  def __init__(self,x,y):\n",
    "\n",
    "    self.x=x\n",
    "    self.y=y\n",
    "\n",
    "  def print_point(self):\n",
    "\n",
    "    print('x=',self.x,' y=',self.y)\n",
    "\n",
    "p1=Points(1,2)\n",
    "p1.print_point()"
   ]
  },
  {
   "cell_type": "code",
   "execution_count": 114,
   "metadata": {},
   "outputs": [
    {
     "name": "stdout",
     "output_type": "stream",
     "text": [
      "x= A  y= 2\n"
     ]
    }
   ],
   "source": [
    "class Points(object):\n",
    "\n",
    "  def __init__(self,x,y):\n",
    "\n",
    "    self.x=x\n",
    "    self.y=y\n",
    "\n",
    "  def print_point(self):\n",
    "\n",
    "    print('x=',self.x,' y=',self.y)\n",
    "\n",
    "p2=Points(1,2)\n",
    "\n",
    "p2.x='A'\n",
    "\n",
    "p2.print_point()"
   ]
  },
  {
   "cell_type": "code",
   "execution_count": 26,
   "metadata": {},
   "outputs": [
    {
     "name": "stdout",
     "output_type": "stream",
     "text": [
      "8\n",
      "10\n",
      "red\n"
     ]
    }
   ],
   "source": [
    "class Rectangle (object):\n",
    "    \n",
    "    def __init__ (self,color,width,height):\n",
    "        self.width = width\n",
    "        self.height = height\n",
    "        self.color = color\n",
    "C1 = Rectangle (\"red\", 10,8)\n",
    "    \n",
    "print (C1.height)\n",
    "\n",
    "print (C1.width)\n",
    "\n",
    "print (C1.color)\n",
    "\n",
    "\n"
   ]
  },
  {
   "cell_type": "code",
   "execution_count": 15,
   "metadata": {},
   "outputs": [
    {
     "name": "stdout",
     "output_type": "stream",
     "text": [
      "9\n"
     ]
    }
   ],
   "source": [
    "class Example:\n",
    "    def __init__ (self, a, b):\n",
    "        self.a = a\n",
    "        self.b = b\n",
    "    def add (self):\n",
    "        return self.a + self.b\n",
    "E= Example(4,5)\n",
    "print (E.add())"
   ]
  },
  {
   "cell_type": "code",
   "execution_count": 12,
   "metadata": {},
   "outputs": [
    {
     "name": "stdout",
     "output_type": "stream",
     "text": [
      "14\n"
     ]
    }
   ],
   "source": [
    "class Example: \n",
    "    def __init__(self, a, b): \n",
    "        self.a = a \n",
    "        self.b = b\n",
    "    def add(self):\n",
    "        return self.a + self.b\n",
    "e = Example(8, 6) \n",
    "print(e.add())"
   ]
  },
  {
   "cell_type": "code",
   "execution_count": 36,
   "metadata": {},
   "outputs": [
    {
     "name": "stdout",
     "output_type": "stream",
     "text": [
      "6\n"
     ]
    }
   ],
   "source": [
    "class Drae:\n",
    "    def __init__(self, a, b):\n",
    "        self.a = a\n",
    "        self.b = b\n",
    "    def product(self):\n",
    "        return self.a * self.b\n",
    "answer = Drae(2, 3)\n",
    "print(answer.product())"
   ]
  },
  {
   "cell_type": "code",
   "execution_count": 128,
   "metadata": {},
   "outputs": [
    {
     "data": {
      "image/png": "[encoded data removed]",
      "text/plain": [
       "<Figure size 432x288 with 1 Axes>"
      ]
     },
     "metadata": {
      "needs_background": "light"
     },
     "output_type": "display_data"
    }
   ],
   "source": [
    "import matplotlib.pyplot as py\n",
    "\n",
    "class Circle (object):\n",
    "    def __init__ (self, radius, color):\n",
    "        self.radius = radius\n",
    "        self.color = color\n",
    "        \n",
    "    def add_radius (self,r):\n",
    "        self.radius = self.radius + r\n",
    "        return self.radius\n",
    "\n",
    "    def drawCircle(self):\n",
    "        py.gca().add_patch(py.Circle((0, 0), radius=self.radius, fc=self.color))\n",
    "        py.axis('scaled')\n",
    "        py.show()\n",
    "        \n",
    "RedCircle= Circle (10,\"red\")\n",
    "RedCircle.drawCircle()"
   ]
  }
 ],
 "metadata": {
  "kernelspec": {
   "display_name": "Python 3",
   "language": "python",
   "name": "python3"
  },
  "language_info": {
   "codemirror_mode": {
    "name": "ipython",
    "version": 3
   },
   "file_extension": ".py",
   "mimetype": "text/x-python",
   "name": "python",
   "nbconvert_exporter": "python",
   "pygments_lexer": "ipython3",
   "version": "3.7.4"
  }
 },
 "nbformat": 4,
 "nbformat_minor": 2
}
