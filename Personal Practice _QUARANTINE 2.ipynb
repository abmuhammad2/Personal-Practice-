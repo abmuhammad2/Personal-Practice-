{
 "cells": [
  {
   "cell_type": "code",
   "execution_count": 1,
   "metadata": {},
   "outputs": [],
   "source": [
    "alien_0 = {'color': 'green', 'points': 5}"
   ]
  },
  {
   "cell_type": "code",
   "execution_count": 5,
   "metadata": {},
   "outputs": [
    {
     "name": "stdout",
     "output_type": "stream",
     "text": [
      "You just earned 5 points!\n"
     ]
    }
   ],
   "source": [
    "\n",
    "print(\"You just earned \" + str(alien_0[\"points\"]) + \" points!\")"
   ]
  },
  {
   "cell_type": "code",
   "execution_count": 6,
   "metadata": {},
   "outputs": [
    {
     "data": {
      "text/plain": [
       "'green'"
      ]
     },
     "execution_count": 6,
     "metadata": {},
     "output_type": "execute_result"
    }
   ],
   "source": [
    "alien_0[\"color\"]"
   ]
  },
  {
   "cell_type": "code",
   "execution_count": 8,
   "metadata": {},
   "outputs": [
    {
     "name": "stdout",
     "output_type": "stream",
     "text": [
      "{'color': 'green', 'points': 5, 'water': 6}\n"
     ]
    }
   ],
   "source": [
    "alien_0[\"water\"] = 6\n",
    "print (alien_0)"
   ]
  },
  {
   "cell_type": "code",
   "execution_count": 9,
   "metadata": {},
   "outputs": [
    {
     "name": "stdout",
     "output_type": "stream",
     "text": [
      "{'mustapha': 'success', 'muhammad': 'successful muslim'}\n"
     ]
    }
   ],
   "source": [
    "#adding to empty dictionary\n",
    "dic = {}\n",
    "dic[\"mustapha\"]= \"success\"\n",
    "dic[\"muhammad\"]= \"successful muslim\"\n",
    "print (dic)"
   ]
  },
  {
   "cell_type": "code",
   "execution_count": 10,
   "metadata": {},
   "outputs": [
    {
     "name": "stdout",
     "output_type": "stream",
     "text": [
      "{'mustapha': 'You must be successful', 'muhammad': 'successful muslim'}\n"
     ]
    }
   ],
   "source": [
    "#modifying dictionary\n",
    "dic [\"mustapha\"]= \"You must be successful\"\n",
    "print(dic)"
   ]
  },
  {
   "cell_type": "code",
   "execution_count": 11,
   "metadata": {},
   "outputs": [
    {
     "name": "stdout",
     "output_type": "stream",
     "text": [
      "{'muhammad': 'successful muslim'}\n"
     ]
    }
   ],
   "source": [
    "del dic[\"mustapha\"]\n",
    "print (dic)"
   ]
  },
  {
   "cell_type": "code",
   "execution_count": 17,
   "metadata": {},
   "outputs": [],
   "source": [
    "data_base = {\"first_name\":\"Mustapha\",\n",
    "             \"last_name\" : \"Muhammad\",\n",
    "             \"age\": 22,\n",
    "             \"country\" : \"Nigeria\"\n",
    "            }"
   ]
  },
  {
   "cell_type": "code",
   "execution_count": 18,
   "metadata": {},
   "outputs": [
    {
     "name": "stdout",
     "output_type": "stream",
     "text": [
      "{'first_name': 'Mustapha', 'last_name': 'Muhammad', 'age': 22, 'country': 'Nigeria'}\n"
     ]
    }
   ],
   "source": [
    "print (data_base)"
   ]
  },
  {
   "cell_type": "code",
   "execution_count": 21,
   "metadata": {},
   "outputs": [
    {
     "data": {
      "text/plain": [
       "'Mustapha'"
      ]
     },
     "execution_count": 21,
     "metadata": {},
     "output_type": "execute_result"
    }
   ],
   "source": [
    "data_base[\"first_name\"]"
   ]
  },
  {
   "cell_type": "code",
   "execution_count": 22,
   "metadata": {},
   "outputs": [
    {
     "data": {
      "text/plain": [
       "'Muhammad'"
      ]
     },
     "execution_count": 22,
     "metadata": {},
     "output_type": "execute_result"
    }
   ],
   "source": [
    "data_base[\"last_name\"]"
   ]
  },
  {
   "cell_type": "code",
   "execution_count": 23,
   "metadata": {},
   "outputs": [
    {
     "data": {
      "text/plain": [
       "22"
      ]
     },
     "execution_count": 23,
     "metadata": {},
     "output_type": "execute_result"
    }
   ],
   "source": [
    "data_base[\"age\"]"
   ]
  },
  {
   "cell_type": "code",
   "execution_count": 24,
   "metadata": {},
   "outputs": [
    {
     "data": {
      "text/plain": [
       "'Nigeria'"
      ]
     },
     "execution_count": 24,
     "metadata": {},
     "output_type": "execute_result"
    }
   ],
   "source": [
    "data_base[\"country\"]"
   ]
  },
  {
   "cell_type": "code",
   "execution_count": null,
   "metadata": {},
   "outputs": [],
   "source": [
    "data_base = {\"first_name\":\"Mustapha\",\n",
    "             \"last_name\" : \"Muhammad\",\n",
    "             \"age\": 22,\n",
    "             \"country\" : \"Nigeria\"\n",
    "            }"
   ]
  },
  {
   "cell_type": "code",
   "execution_count": 25,
   "metadata": {},
   "outputs": [],
   "source": [
    "data_base[\"state\"]= \"ogun\""
   ]
  },
  {
   "cell_type": "code",
   "execution_count": 26,
   "metadata": {},
   "outputs": [
    {
     "data": {
      "text/plain": [
       "{'first_name': 'Mustapha',\n",
       " 'last_name': 'Muhammad',\n",
       " 'age': 22,\n",
       " 'country': 'Nigeria',\n",
       " 'state': 'ogun'}"
      ]
     },
     "execution_count": 26,
     "metadata": {},
     "output_type": "execute_result"
    }
   ],
   "source": [
    "data_base"
   ]
  },
  {
   "cell_type": "code",
   "execution_count": 46,
   "metadata": {},
   "outputs": [],
   "source": [
    "data_base1 = {\"Mustapha\" : 25,\n",
    "              \"Muhammad\": 26,\n",
    "             \"habib\": 22,\n",
    "             \"segun\" : 4\n",
    "             }"
   ]
  },
  {
   "cell_type": "code",
   "execution_count": 29,
   "metadata": {},
   "outputs": [
    {
     "name": "stdout",
     "output_type": "stream",
     "text": [
      "{'Mustapha': 25, 'Muhammad': 26, 'habib': 22, 'segun': 4}\n"
     ]
    }
   ],
   "source": [
    "print (data_base1)"
   ]
  },
  {
   "cell_type": "code",
   "execution_count": 48,
   "metadata": {},
   "outputs": [
    {
     "name": "stdout",
     "output_type": "stream",
     "text": [
      "Mustapha favourite number is 25\n",
      "Muhammad favourite number is 26\n",
      "habib favourite number is 22\n",
      "segun favourite number is 4\n"
     ]
    }
   ],
   "source": [
    "#using a for loop to save stress\n",
    "for key,value in data_base1.items():\n",
    "    print (key,\"favourite number is\",value)"
   ]
  },
  {
   "cell_type": "code",
   "execution_count": 36,
   "metadata": {},
   "outputs": [
    {
     "name": "stdout",
     "output_type": "stream",
     "text": [
      "Mustapha favourite number is 25\n",
      "Muhammad favourite number is 26\n",
      "habib favourite number is 22\n",
      "segun favourite number is 4\n"
     ]
    }
   ],
   "source": [
    "#concatenation of string and integer using plus(+)\n",
    "print (\"Mustapha favourite number is \" + str(data_base1[\"Mustapha\"]))\n",
    "print (\"Muhammad favourite number is \" + str(data_base1[\"Muhammad\"]))\n",
    "print (\"habib favourite number is \" + str(data_base1[\"habib\"]))\n",
    "print (\"segun favourite number is \" + str(data_base1[\"segun\"]))"
   ]
  },
  {
   "cell_type": "code",
   "execution_count": 38,
   "metadata": {},
   "outputs": [
    {
     "name": "stdout",
     "output_type": "stream",
     "text": [
      "Mustapha favourite number is 25\n",
      "Muhammad favourite number is 26\n",
      "habib favourite number is 22 \n",
      "\n",
      "segun favourite number is 4\n"
     ]
    }
   ],
   "source": [
    "#concatenation of string and integer using comma(,)\n",
    "print (\"Mustapha favourite number is\" , data_base1[\"Mustapha\"])\n",
    "print (\"Muhammad favourite number is\" , data_base1[\"Muhammad\"])\n",
    "print (\"habib favourite number is\" , data_base1[\"habib\"],\"\\n\")\n",
    "print (\"segun favourite number is\" , data_base1[\"segun\"])"
   ]
  },
  {
   "cell_type": "code",
   "execution_count": 53,
   "metadata": {},
   "outputs": [],
   "source": [
    "data_base = {\"string\":\"use to define word and sentence\",\n",
    "             \"integer\" : \"use to define whole number/figure\",\n",
    "             \"float\": \"use to define decimal number\",\n",
    "             \"bool\" : \"use to define boolean e.g TRUE or FALSE\",\n",
    "            }"
   ]
  },
  {
   "cell_type": "code",
   "execution_count": 54,
   "metadata": {},
   "outputs": [
    {
     "name": "stdout",
     "output_type": "stream",
     "text": [
      "string: use to define word and sentence.\n",
      "\n",
      "integer: use to define whole number/figure.\n",
      "\n",
      "float: use to define decimal number\n",
      "\n",
      "bool: use to define boolean e.g TRUE or FALSE.\n",
      "\n"
     ]
    }
   ],
   "source": [
    "print (\"string:\", data_base[\"string\"] +\".\\n\")\n",
    "print (\"integer:\", data_base[\"integer\"]+\".\\n\")\n",
    "print (\"float:\", data_base[\"float\"]+\"\\n\")\n",
    "print (\"bool:\", data_base[\"bool\"]+\".\\n\")"
   ]
  },
  {
   "cell_type": "code",
   "execution_count": 58,
   "metadata": {},
   "outputs": [
    {
     "name": "stdout",
     "output_type": "stream",
     "text": [
      "\n",
      "Key: string\n",
      "Value: use to define word and sentence\n",
      "\n",
      "Key: integer\n",
      "Value: use to define whole number/figure\n",
      "\n",
      "Key: float\n",
      "Value: use to define decimal number\n",
      "\n",
      "Key: bool\n",
      "Value: use to define boolean e.g TRUE or FALSE\n"
     ]
    }
   ],
   "source": [
    "for k,v in data_base.items():\n",
    "    print(\"\\nKey: \" +k)\n",
    "    print(\"Value: \" + v)"
   ]
  },
  {
   "cell_type": "code",
   "execution_count": 59,
   "metadata": {},
   "outputs": [
    {
     "name": "stdout",
     "output_type": "stream",
     "text": [
      "('string', 'use to define word and sentence')\n",
      "('integer', 'use to define whole number/figure')\n",
      "('float', 'use to define decimal number')\n",
      "('bool', 'use to define boolean e.g TRUE or FALSE')\n"
     ]
    }
   ],
   "source": [
    "for k in data_base.items():\n",
    "    print (k)"
   ]
  },
  {
   "cell_type": "code",
   "execution_count": 60,
   "metadata": {},
   "outputs": [
    {
     "name": "stdout",
     "output_type": "stream",
     "text": [
      "string\n",
      "integer\n",
      "float\n",
      "bool\n"
     ]
    }
   ],
   "source": [
    "for k in data_base:\n",
    "    print(k)"
   ]
  },
  {
   "cell_type": "code",
   "execution_count": 71,
   "metadata": {},
   "outputs": [
    {
     "name": "stdout",
     "output_type": "stream",
     "text": [
      "use to define word and sentence\n",
      "use to define whole number/figure\n",
      "use to define decimal number\n",
      "use to define boolean e.g TRUE or FALSE\n"
     ]
    }
   ],
   "source": [
    "for k in data_base.values():\n",
    "    print(k)"
   ]
  },
  {
   "cell_type": "code",
   "execution_count": 72,
   "metadata": {},
   "outputs": [
    {
     "name": "stdout",
     "output_type": "stream",
     "text": [
      "string\n",
      "integer\n",
      "float\n",
      "bool\n"
     ]
    }
   ],
   "source": [
    "for k in data_base.keys():\n",
    "    print(k)"
   ]
  },
  {
   "cell_type": "code",
   "execution_count": 78,
   "metadata": {},
   "outputs": [],
   "source": [
    "favorite_languages = {    'jen': 'python',    'sarah': 'c',    'edward': 'ruby',    'phil': 'python',    }"
   ]
  },
  {
   "cell_type": "code",
   "execution_count": 82,
   "metadata": {},
   "outputs": [
    {
     "name": "stdout",
     "output_type": "stream",
     "text": [
      "jen python\n",
      "sarah c\n",
      "edward ruby\n",
      "phil python\n"
     ]
    }
   ],
   "source": [
    "for key,value in favorite_languages.items():\n",
    "    print(key,value)"
   ]
  },
  {
   "cell_type": "code",
   "execution_count": 91,
   "metadata": {},
   "outputs": [
    {
     "name": "stdout",
     "output_type": "stream",
     "text": [
      "jen\n",
      "hi jen, I know you love python!\n",
      "sarah\n",
      "hi sarah, I know you love c!\n",
      "edward\n",
      "phil\n"
     ]
    }
   ],
   "source": [
    "#method 1\n",
    "favorite_languages = {    'jen': 'python',    'sarah': 'c',    'edward': 'ruby',    'phil': 'python',    }\n",
    "\n",
    "friends = [\"jen\",\"sarah\"]\n",
    "for key in favorite_languages.keys():\n",
    "    print (key)\n",
    "    \n",
    "    if key in friends:\n",
    "        print (\"hi \" +key + \", I know you love \"+\n",
    "               favorite_languages[key]+\"!\")\n",
    "    "
   ]
  },
  {
   "cell_type": "code",
   "execution_count": 8,
   "metadata": {},
   "outputs": [
    {
     "name": "stdout",
     "output_type": "stream",
     "text": [
      "jen\n",
      "hi jen, I know you love python!\n",
      "sarah\n",
      "hi sarah, I know you love c!\n",
      "edward\n",
      "phil\n"
     ]
    }
   ],
   "source": [
    "#method 2\n",
    "favorite_languages = {    'jen': 'python',    'sarah': 'c',    'edward': 'ruby',    'phil': 'python',    }\n",
    "\n",
    "friends = [\"jen\",\"sarah\"]\n",
    "for key,value in favorite_languages.items():\n",
    "    print (key)\n",
    "    \n",
    "    if key in friends:\n",
    "        print (\"hi \" +key + \", I know you love \"+\n",
    "              value+\"!\")\n",
    "   "
   ]
  },
  {
   "cell_type": "code",
   "execution_count": 86,
   "metadata": {},
   "outputs": [
    {
     "name": "stdout",
     "output_type": "stream",
     "text": [
      "erin, ileya\n"
     ]
    }
   ],
   "source": [
    "if \"erin\"  not in favorite_languages.keys():\n",
    "    print (\"erin, ileya\")"
   ]
  },
  {
   "cell_type": "code",
   "execution_count": 98,
   "metadata": {},
   "outputs": [
    {
     "name": "stdout",
     "output_type": "stream",
     "text": [
      "Edward, thank you for taking the poll.\n",
      "Jen, thank you for taking the poll.\n",
      "Phil, thank you for taking the poll.\n",
      "Sarah, thank you for taking the poll.\n"
     ]
    }
   ],
   "source": [
    "for name in sorted(favorite_languages.keys()):  \n",
    "    print(name.title() + \", thank you for taking the poll.\")"
   ]
  },
  {
   "cell_type": "code",
   "execution_count": 99,
   "metadata": {},
   "outputs": [
    {
     "name": "stdout",
     "output_type": "stream",
     "text": [
      "python\n",
      "c\n",
      "ruby\n",
      "python\n"
     ]
    }
   ],
   "source": [
    "for value in favorite_languages.values():\n",
    "    print (value)"
   ]
  },
  {
   "cell_type": "code",
   "execution_count": 102,
   "metadata": {},
   "outputs": [
    {
     "name": "stdout",
     "output_type": "stream",
     "text": [
      "ruby\n",
      "c\n",
      "python\n"
     ]
    }
   ],
   "source": [
    "# to avoid repetition in values use *set*\n",
    "for value in set(favorite_languages.values()):\n",
    "    print (value)"
   ]
  },
  {
   "cell_type": "code",
   "execution_count": 7,
   "metadata": {},
   "outputs": [
    {
     "name": "stdout",
     "output_type": "stream",
     "text": [
      "jen\n",
      "hi jen, I know you love python!\n",
      "sarah\n",
      "hi sarah, I know you love c!\n",
      "edward\n",
      "phil\n"
     ]
    }
   ],
   "source": [
    "\n",
    "    "
   ]
  },
  {
   "cell_type": "code",
   "execution_count": 12,
   "metadata": {},
   "outputs": [],
   "source": [
    "refresh= {\"string\":\"use to define word and sentence\",\n",
    "             \"integer\" : \"use to define whole number/figure\",\n",
    "             \"float\": \"use to define decimal number\",\n",
    "             \"bool\" : \"use to define boolean e.g TRUE or FALSE\"\n",
    "         }"
   ]
  },
  {
   "cell_type": "code",
   "execution_count": 13,
   "metadata": {},
   "outputs": [
    {
     "name": "stdout",
     "output_type": "stream",
     "text": [
      "\n",
      "Key: string\n",
      "Value: use to define word and sentence\n",
      "\n",
      "Key: integer\n",
      "Value: use to define whole number/figure\n",
      "\n",
      "Key: float\n",
      "Value: use to define decimal number\n",
      "\n",
      "Key: bool\n",
      "Value: use to define boolean e.g TRUE or FALSE\n"
     ]
    }
   ],
   "source": [
    "for key,value in refresh.items():\n",
    "    print (\"\\nKey: \"+key)\n",
    "    print (\"Value: \"+value)"
   ]
  },
  {
   "cell_type": "code",
   "execution_count": 15,
   "metadata": {},
   "outputs": [],
   "source": [
    "refresh[\"true\"]= \"it is a boolean\"\n",
    "refresh[\"false\"]= \"it is a boolean\"\n"
   ]
  },
  {
   "cell_type": "code",
   "execution_count": 16,
   "metadata": {},
   "outputs": [
    {
     "name": "stdout",
     "output_type": "stream",
     "text": [
      "{'string': 'use to define word and sentence', 'integer': 'use to define whole number/figure', 'float': 'use to define decimal number', 'bool': 'use to define boolean e.g TRUE or FALSE', 'true': 'it is a boolean', 'false': 'it is a boolean'}\n"
     ]
    }
   ],
   "source": [
    "print(refresh)"
   ]
  },
  {
   "cell_type": "code",
   "execution_count": 17,
   "metadata": {},
   "outputs": [
    {
     "name": "stdout",
     "output_type": "stream",
     "text": [
      "\n",
      "Key: string\n",
      "Value: use to define word and sentence\n",
      "\n",
      "Key: integer\n",
      "Value: use to define whole number/figure\n",
      "\n",
      "Key: float\n",
      "Value: use to define decimal number\n",
      "\n",
      "Key: bool\n",
      "Value: use to define boolean e.g TRUE or FALSE\n",
      "\n",
      "Key: true\n",
      "Value: it is a boolean\n",
      "\n",
      "Key: false\n",
      "Value: it is a boolean\n"
     ]
    }
   ],
   "source": [
    "for key,value in refresh.items():\n",
    "    print (\"\\nKey: \"+key)\n",
    "    print (\"Value: \"+value)"
   ]
  },
  {
   "cell_type": "code",
   "execution_count": 35,
   "metadata": {},
   "outputs": [
    {
     "name": "stdout",
     "output_type": "stream",
     "text": [
      "The Nile runs through  Egypt\n",
      "The Atlantic runs through  Nigeria\n",
      "The Pacific runs through  Canada\n"
     ]
    }
   ],
   "source": [
    "rivers = {\"nile\": \"egypt\",\n",
    "         \"atlantic\": \"nigeria\",\n",
    "         \"pacific\": \"canada\"\n",
    "         }\n",
    "\n",
    "for key,value in rivers.items():\n",
    "    print (\"The \" +key.title() + \" runs through \", value.title())"
   ]
  },
  {
   "cell_type": "code",
   "execution_count": 40,
   "metadata": {},
   "outputs": [
    {
     "name": "stdout",
     "output_type": "stream",
     "text": [
      "nile\n",
      "atlantic\n",
      "pacific\n",
      "\n",
      "\n",
      "egypt\n",
      "nigeria\n",
      "canada\n"
     ]
    }
   ],
   "source": [
    "\n",
    "for key in rivers.keys():\n",
    "    print (key)\n",
    "    \n",
    "print(\"\\n\")\n",
    "\n",
    "for value in rivers.values():\n",
    "    print (value)"
   ]
  },
  {
   "cell_type": "code",
   "execution_count": 46,
   "metadata": {},
   "outputs": [
    {
     "name": "stdout",
     "output_type": "stream",
     "text": [
      "jen, thanks for responding\n",
      "sarah, you are invited to the poll\n",
      "edward, thanks for responding\n",
      "phil, thanks for responding\n"
     ]
    }
   ],
   "source": [
    "favorite_languages = {    'jen': 'python',    'sarah': 'c',    'edward': 'ruby',    'phil': 'python',    }\n",
    "\n",
    "friendship = [\"wale\", \"sarah\"]\n",
    "for key,value in favorite_languages.items():\n",
    "    if key in friendship: \n",
    "        print (key+\", you are invited to the poll\")\n",
    "    else:\n",
    "        print (key+\", thanks for responding\")\n",
    "    \n",
    "    "
   ]
  },
  {
   "cell_type": "code",
   "execution_count": 61,
   "metadata": {},
   "outputs": [
    {
     "name": "stdout",
     "output_type": "stream",
     "text": [
      "wale, you are invited to the poll\n",
      "sarah, you are invited to the poll\n",
      "phil, thanks for responding\n"
     ]
    }
   ],
   "source": [
    "favorite_languages = {    'jen': 'python',    'sarah': 'c',    'edward': 'ruby',    'phil': 'python',    }\n",
    "\n",
    "friendship = [\"wale\", \"sarah\"]\n",
    "for friend in friendship:\n",
    "    print (friend+\", you are invited to the poll\")\n",
    "    \n",
    "    if friend in favorite_languages: \n",
    "        print (key+\", thanks for responding\")\n",
    "    \n",
    "    \n",
    "    "
   ]
  },
  {
   "cell_type": "code",
   "execution_count": null,
   "metadata": {},
   "outputs": [],
   "source": []
  },
  {
   "cell_type": "code",
   "execution_count": 20,
   "metadata": {},
   "outputs": [
    {
     "name": "stdout",
     "output_type": "stream",
     "text": [
      "1\n",
      "2\n",
      "3\n",
      "4\n",
      "5\n",
      "6\n",
      "7\n",
      "8\n",
      "9\n"
     ]
    }
   ],
   "source": [
    "#revision\n",
    "for value in list(range(1,10)):\n",
    "    print (value)"
   ]
  },
  {
   "cell_type": "code",
   "execution_count": 64,
   "metadata": {},
   "outputs": [
    {
     "name": "stdout",
     "output_type": "stream",
     "text": [
      "\n",
      "Jen's favorite languages are:\n",
      "\tPython\n",
      "\tRuby\n",
      "\n",
      "Sarah's favorite language is:\n",
      "\tC\n",
      "\n",
      "Edward's favorite languages are:\n",
      "\tRuby\n",
      "\tGo\n",
      "\n",
      "Phil's favorite languages are:\n",
      "\tPython\n",
      "\tHaskell\n"
     ]
    }
   ],
   "source": [
    "favorite_languages = {    'jen': ['python', 'ruby'],  \n",
    "                      'sarah': ['c'],   \n",
    "                      'edward': ['ruby', 'go'],   \n",
    "                      'phil': ['python', 'haskell'],    \n",
    "                     }\n",
    "for name, languages in favorite_languages.items():  \n",
    "    if len(languages) > 1:\n",
    "        print(\"\\n\" + name.title() + \"'s favorite languages are:\")\n",
    "    else:\n",
    "        print(\"\\n\" + name.title() + \"'s favorite language is:\")\n",
    "    for language in languages:     \n",
    "        print(\"\\t\" + language.title())"
   ]
  },
  {
   "cell_type": "code",
   "execution_count": 65,
   "metadata": {},
   "outputs": [
    {
     "name": "stdout",
     "output_type": "stream",
     "text": [
      "{'position': 'first', 'cgpa': 4.84}\n",
      "{'poision': 'second', 'cgpa': 4.67}\n",
      "{'poision': 'third', 'cgpa': 4.6}\n",
      "{'poision': 'forth', 'cgpa': 4.54}\n"
     ]
    }
   ],
   "source": [
    "segun = {\"position\": \"first\", \"cgpa\": 4.84}\n",
    "joshua = {\"poision\":\"second\", \"cgpa\": 4.67}\n",
    "dammy = {\"poision\":\"third\", \"cgpa\": 4.60}\n",
    "muhammad = {\"poision\":\"forth\", \"cgpa\": 4.54}\n",
    "\n",
    "scholars = [segun,joshua,dammy,muhammad]\n",
    "for scholar in scholars:\n",
    "    print (scholar)\n"
   ]
  },
  {
   "cell_type": "code",
   "execution_count": 71,
   "metadata": {},
   "outputs": [
    {
     "name": "stdout",
     "output_type": "stream",
     "text": [
      "{'position': 'fifth', 'cgpa': 4.46}\n",
      "{'position': 'fifth', 'cgpa': 4.46}\n",
      "{'position': 'fifth', 'cgpa': 4.46}\n",
      "{'position': 'fifth', 'cgpa': 4.46}\n",
      "{'position': 'fifth', 'cgpa': 4.46}\n",
      "\n",
      "Total number of scholars:30\n"
     ]
    }
   ],
   "source": [
    "scholars = []\n",
    "\n",
    "for scholar_number in range (30):\n",
    "    new_scholar = {'position': 'fifth', 'cgpa': 4.46}\n",
    "    scholars.append(new_scholar)\n",
    "\n",
    "for scholar in scholars[0:5]:\n",
    "    print (scholar)\n",
    "print (\"\\nTotal number of scholars:\" + str(len(scholars)))"
   ]
  },
  {
   "cell_type": "code",
   "execution_count": 73,
   "metadata": {},
   "outputs": [
    {
     "name": "stdout",
     "output_type": "stream",
     "text": [
      "{'position': 'first', 'cgpa': 4.84}\n",
      "{'position': 'first', 'cgpa': 4.84}\n",
      "{'position': 'first', 'cgpa': 4.84}\n",
      "{'position': 'fifth', 'cgpa': 4.46}\n",
      "{'position': 'fifth', 'cgpa': 4.46}\n",
      "\n",
      "Total number of scholars:30\n"
     ]
    }
   ],
   "source": [
    "scholars = []\n",
    "\n",
    "for scholar_number in range (30):\n",
    "    new_scholar = {'position': 'fifth', 'cgpa': 4.46}\n",
    "    scholars.append(new_scholar)\n",
    "\n",
    "for scholar in scholars[0:3]:\n",
    "    if scholar[\"position\"] == \"fifth\":\n",
    "        scholar[\"position\"] = \"first\"\n",
    "        scholar[\"cgpa\"]= 4.84\n",
    "        \n",
    "for scholar in scholars[0:5]:\n",
    "    print (scholar)\n",
    "print (\"\\nTotal number of scholars:\" + str(len(scholars)))    \n",
    "     \n",
    "    \n",
    " "
   ]
  },
  {
   "cell_type": "code",
   "execution_count": 74,
   "metadata": {},
   "outputs": [
    {
     "name": "stdout",
     "output_type": "stream",
     "text": [
      "{'position': 'first', 'cgpa': 4.84}\n",
      "{'position': 'first', 'cgpa': 4.84}\n",
      "{'position': 'first', 'cgpa': 4.84}\n",
      "{'position': 'fifth', 'cgpa': 4.46}\n",
      "{'position': 'fifth', 'cgpa': 4.46}\n",
      "\n",
      "Total number of scholars:30\n"
     ]
    }
   ],
   "source": [
    "scholars = []\n",
    "\n",
    "for scholar_number in range (30):\n",
    "    new_scholar = {'position': 'fifth', 'cgpa': 4.46}\n",
    "    scholars.append(new_scholar)\n",
    "\n",
    "for scholar in scholars[0:3]:\n",
    "    if scholar[\"position\"] == \"fifth\":\n",
    "        scholar[\"position\"] = \"first\"\n",
    "        scholar[\"cgpa\"]= 4.84\n",
    "    elif scholar[\"position\"] == \"first\":\n",
    "        scholar[\"position\"] = \"second\"\n",
    "        scholar[\"cgpa\"]= 4.67\n",
    "        \n",
    "for scholar in scholars[0:5]:\n",
    "    print (scholar)\n",
    "print (\"\\nTotal number of scholars:\" + str(len(scholars)))    \n",
    "     \n",
    "    "
   ]
  },
  {
   "cell_type": "code",
   "execution_count": 77,
   "metadata": {},
   "outputs": [
    {
     "name": "stdout",
     "output_type": "stream",
     "text": [
      "you ordered a rice with the following proteins:\n",
      "\tdodo\n",
      "\tmeat\n",
      "\tfish\n"
     ]
    }
   ],
   "source": [
    "food = {\"carbonhydrate\":\"rice\",\n",
    "       \"proteins\": [\"dodo\",\"meat\",\"fish\"]\n",
    "       }\n",
    "print (\"you ordered a \" + food[\"carbonhydrate\"] + \" with the following proteins:\")\n",
    "\n",
    "for protein in food[\"proteins\"]:\n",
    "    print (\"\\t\"+protein)\n",
    "    "
   ]
  },
  {
   "cell_type": "code",
   "execution_count": 98,
   "metadata": {},
   "outputs": [
    {
     "name": "stdout",
     "output_type": "stream",
     "text": [
      "\n",
      "Username: zanta\n",
      "\tFull name: Zaynab Aramide Taiwo\n",
      "\tLocation: Kwara\n",
      "\n",
      "Username: abmuhammad2\n",
      "\tFull name: Mustapha Abiola Muhammad\n",
      "\tLocation: Lagos\n"
     ]
    }
   ],
   "source": [
    "users= {\"zanta\":{\"first\":\"zaynab\", \n",
    "                 \"middle\":\"aramide\",\n",
    "                \"last\":\"taiwo\",\n",
    "                \"location\":\"kwara\"},\n",
    "        \n",
    "        \"abmuhammad2\":{\"first\":\"mustapha\", \n",
    "                 \"middle\":\"abiola\",\n",
    "                \"last\":\"muhammad\",\n",
    "                \"location\":\"lagos\"}\n",
    "        }\n",
    "for user,user_info in users.items():\n",
    "    Full_name = user_info[\"first\"] + \" \" + user_info[\"middle\"]+ \" \" + user_info[\"last\"]\n",
    "    Location = user_info[\"location\"]\n",
    "    print (\"\\nUsername: \" + user)\n",
    "    print (\"\\tFull name: \" + Full_name.title())\n",
    "    print (\"\\tLocation: \" + Location.title())"
   ]
  },
  {
   "cell_type": "code",
   "execution_count": 99,
   "metadata": {},
   "outputs": [
    {
     "name": "stdout",
     "output_type": "stream",
     "text": [
      "{'first': 'zaynab', 'middle': 'aramide', 'last': 'taiwo', 'location': 'kwara'}\n",
      "{'first': 'mustapha', 'middle': 'abiola', 'last': 'muhammad', 'location': 'lagos'}\n"
     ]
    }
   ],
   "source": [
    "zanta = {\"first\":\"zaynab\", \n",
    "                 \"middle\":\"aramide\",\n",
    "                \"last\":\"taiwo\",\n",
    "                \"location\":\"kwara\"}\n",
    "        \n",
    "abmuhammad2 = {\"first\":\"mustapha\", \n",
    "                 \"middle\":\"abiola\",\n",
    "                \"last\":\"muhammad\",\n",
    "                \"location\":\"lagos\"}\n",
    "peoples = [zanta,abmuhammad2]\n",
    "for people in peoples:\n",
    "    print (people)"
   ]
  },
  {
   "cell_type": "code",
   "execution_count": 105,
   "metadata": {},
   "outputs": [
    {
     "name": "stdout",
     "output_type": "stream",
     "text": [
      "\n",
      "ZANTA:\n",
      "\tDublin\n",
      "\tIreland\n",
      "\tLondon\n",
      "\n",
      "ABMUHAMMAD2:\n",
      "\tCanada\n",
      "\tAmerica\n",
      "\tGermany\n"
     ]
    }
   ],
   "source": [
    "favorite_places = {\"zanta\":[\"dublin\",\"ireland\",\"london\"],\n",
    "                  \"abmuhammad2\":[\"canada\",\"America\",\"germany\"]\n",
    "                  }\n",
    "for name,places in favorite_places.items():\n",
    "    print(\"\\n\"+ name.upper()+\":\")\n",
    "    \n",
    "    for place in places:\n",
    "        print(\"\\t\"+ place.title())"
   ]
  },
  {
   "cell_type": "code",
   "execution_count": 148,
   "metadata": {},
   "outputs": [
    {
     "name": "stdout",
     "output_type": "stream",
     "text": [
      "Mustapha's favourite numbers are:\n",
      "\t25\n",
      "\t27\n",
      "\t6\n",
      "Muhammad's favourite numbers are:\n",
      "\t26\n",
      "\t4\n",
      "habib's favourite numbers are:\n"
     ]
    },
    {
     "ename": "TypeError",
     "evalue": "'int' object is not iterable",
     "output_type": "error",
     "traceback": [
      "\u001b[1;31m---------------------------------------------------------------------------\u001b[0m",
      "\u001b[1;31mTypeError\u001b[0m                                 Traceback (most recent call last)",
      "\u001b[1;32m<ipython-input-148-518ba037eb4c>\u001b[0m in \u001b[0;36m<module>\u001b[1;34m\u001b[0m\n\u001b[0;32m      9\u001b[0m     \u001b[1;32melse\u001b[0m\u001b[1;33m:\u001b[0m\u001b[1;33m\u001b[0m\u001b[1;33m\u001b[0m\u001b[0m\n\u001b[0;32m     10\u001b[0m         \u001b[0mprint\u001b[0m \u001b[1;33m(\u001b[0m\u001b[0mkey\u001b[0m\u001b[1;33m+\u001b[0m\u001b[1;34m\"'s favourite number is:\"\u001b[0m\u001b[1;33m)\u001b[0m\u001b[1;33m\u001b[0m\u001b[1;33m\u001b[0m\u001b[0m\n\u001b[1;32m---> 11\u001b[1;33m     \u001b[1;32mfor\u001b[0m \u001b[0mvalue\u001b[0m \u001b[1;32min\u001b[0m \u001b[0mvalues\u001b[0m\u001b[1;33m:\u001b[0m\u001b[1;33m\u001b[0m\u001b[1;33m\u001b[0m\u001b[0m\n\u001b[0m\u001b[0;32m     12\u001b[0m         \u001b[0mprint\u001b[0m \u001b[1;33m(\u001b[0m\u001b[1;34m\"\\t\"\u001b[0m\u001b[1;33m+\u001b[0m \u001b[0mstr\u001b[0m\u001b[1;33m(\u001b[0m\u001b[0mvalue\u001b[0m\u001b[1;33m)\u001b[0m\u001b[1;33m)\u001b[0m\u001b[1;33m\u001b[0m\u001b[1;33m\u001b[0m\u001b[0m\n",
      "\u001b[1;31mTypeError\u001b[0m: 'int' object is not iterable"
     ]
    }
   ],
   "source": [
    "#without converting to integer\n",
    "data_base1 = {\"Mustapha\" : [25,27,6],\n",
    "              \"Muhammad\": [26,4],\n",
    "             \"habib\": 22,\n",
    "             \"segun\" : 4\n",
    "             }\n",
    "for key,values in data_base1.items():\n",
    "    if len(str(values)) > 1:\n",
    "        print (key+\"'s favourite numbers are:\")\n",
    "    else:\n",
    "        print (key+\"'s favourite number is:\")\n",
    "    for value in values:\n",
    "        print (\"\\t\"+ str(value))"
   ]
  },
  {
   "cell_type": "code",
   "execution_count": 153,
   "metadata": {},
   "outputs": [
    {
     "name": "stdout",
     "output_type": "stream",
     "text": [
      "\n",
      "Mustapha's favourite numbers are:\n",
      "\t25\n",
      "\t27\n",
      "\t6\n",
      "\n",
      "Muhammad's favourite numbers are:\n",
      "\t26\n",
      "\t4\n",
      "\n",
      "habib's favourite number is:\n",
      "\t12\n",
      "\n",
      "segun's favourite number is:\n",
      "\t4\n"
     ]
    }
   ],
   "source": [
    "#converting all value to string\n",
    "data_base1 = {\"Mustapha\" : [\"25\",\"27\",\"6\"],\n",
    "              \"Muhammad\": [\"26\",\"4\"],\n",
    "             \"habib\": [\"12\"],\n",
    "             \"segun\" : \"4\"\n",
    "             }\n",
    "for key,values in data_base1.items():\n",
    "    if len(values) > 1:\n",
    "        print (\"\\n\"+key+\"'s favourite numbers are:\")\n",
    "    else:\n",
    "        print (\"\\n\"+key+\"'s favourite number is:\")\n",
    "    for value in values:\n",
    "        print (\"\\t\"+ value)"
   ]
  },
  {
   "cell_type": "code",
   "execution_count": 155,
   "metadata": {},
   "outputs": [
    {
     "name": "stdout",
     "output_type": "stream",
     "text": [
      "{'Mustapha': ['25', '27', '6'], 'Muhammad': ['26', '4'], 'habib': ['12'], 'segun': '4', 'dammy': ['5', '60']}\n"
     ]
    }
   ],
   "source": [
    "data_base1[\"dammy\"]= [\"5\",\"60\"]\n",
    "print (data_base1)"
   ]
  },
  {
   "cell_type": "code",
   "execution_count": 156,
   "metadata": {},
   "outputs": [
    {
     "name": "stdout",
     "output_type": "stream",
     "text": [
      "\n",
      "Mustapha's favourite numbers are:\n",
      "\t25\n",
      "\t27\n",
      "\t6\n",
      "\n",
      "Muhammad's favourite numbers are:\n",
      "\t26\n",
      "\t4\n",
      "\n",
      "habib's favourite number is:\n",
      "\t12\n",
      "\n",
      "segun's favourite number is:\n",
      "\t4\n",
      "\n",
      "dammy's favourite numbers are:\n",
      "\t5\n",
      "\t60\n"
     ]
    }
   ],
   "source": [
    "for key,values in data_base1.items():\n",
    "    if len(values) > 1:\n",
    "        print (\"\\n\"+key+\"'s favourite numbers are:\")\n",
    "    else:\n",
    "        print (\"\\n\"+key+\"'s favourite number is:\")\n",
    "    for value in values:\n",
    "        print (\"\\t\"+ value)"
   ]
  },
  {
   "cell_type": "code",
   "execution_count": 159,
   "metadata": {},
   "outputs": [
    {
     "name": "stdout",
     "output_type": "stream",
     "text": [
      "\n",
      "City: Toronto\n",
      "\tcanada\n",
      "\t2 million people\n",
      "\tlargest city\n",
      "\n",
      "City: Sydney\n",
      "\taustralia\n",
      "\t1 million people\n",
      "\tsmallest city\n"
     ]
    }
   ],
   "source": [
    "cities= {    'toronto': ['canada', '2 million people',\"largest city\"],  \n",
    "                      'sydney': ['australia',\"1 million people\", \"smallest city\"],\n",
    "        }\n",
    "for city,infos in cities.items():\n",
    "    print (\"\\nCity: \"+ city.title())\n",
    "    \n",
    "    for info in infos:\n",
    "        print (\"\\t\"+ info)\n",
    "                     \n",
    "         "
   ]
  },
  {
   "cell_type": "code",
   "execution_count": 163,
   "metadata": {},
   "outputs": [
    {
     "name": "stdout",
     "output_type": "stream",
     "text": [
      "\n",
      "City: Toronto\n",
      "\tCountry: canada\n",
      "\tPopulation: 2 million people\n",
      "\tFact: largest city\n",
      "\n",
      "City: Sydney\n",
      "\tCountry: australia\n",
      "\tPopulation: 1 million people\n",
      "\tFact: smallest city\n"
     ]
    }
   ],
   "source": [
    "cities= {    'toronto': {\"country\":'canada', \"population\":'2 million people',\"fact\":\"largest city\"},  \n",
    "                      'sydney': {\"country\":'australia',\"population\":\"1 million people\",\"fact\": \"smallest city\"},\n",
    "        }\n",
    "for city,infos in cities.items():\n",
    "    \n",
    "    Country = infos[\"country\"] \n",
    "    Population = infos[\"population\"] \n",
    "    Fact = infos[\"fact\"]\n",
    "    \n",
    "    print (\"\\nCity: \"+ city.title())\n",
    "    print (\"\\tCountry: \"+ Country )\n",
    "    print (\"\\tPopulation: \"+ Population)\n",
    "    print (\"\\tFact: \"+ Fact)"
   ]
  },
  {
   "cell_type": "code",
   "execution_count": null,
   "metadata": {},
   "outputs": [],
   "source": []
  },
  {
   "cell_type": "code",
   "execution_count": null,
   "metadata": {},
   "outputs": [],
   "source": []
  }
 ],
 "metadata": {
  "kernelspec": {
   "display_name": "Python 3",
   "language": "python",
   "name": "python3"
  },
  "language_info": {
   "codemirror_mode": {
    "name": "ipython",
    "version": 3
   },
   "file_extension": ".py",
   "mimetype": "text/x-python",
   "name": "python",
   "nbconvert_exporter": "python",
   "pygments_lexer": "ipython3",
   "version": "3.7.4"
  }
 },
 "nbformat": 4,
 "nbformat_minor": 2
}
