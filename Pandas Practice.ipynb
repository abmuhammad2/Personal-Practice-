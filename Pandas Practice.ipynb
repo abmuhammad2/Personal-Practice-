{
 "cells": [
  {
   "cell_type": "code",
   "execution_count": 2,
   "metadata": {},
   "outputs": [],
   "source": [
    "import pandas as pd\n",
    "\n",
    "# some function in pandas are \"DataFrame\", \"read_csv()\",\"Series()\", \"Values\""
   ]
  },
  {
   "cell_type": "code",
   "execution_count": 3,
   "metadata": {},
   "outputs": [
    {
     "ename": "FileNotFoundError",
     "evalue": "[Errno 2] File b'file.csv' does not exist: b'file.csv'",
     "output_type": "error",
     "traceback": [
      "\u001b[1;31m---------------------------------------------------------------------------\u001b[0m",
      "\u001b[1;31mFileNotFoundError\u001b[0m                         Traceback (most recent call last)",
      "\u001b[1;32m<ipython-input-3-68ab44496bb9>\u001b[0m in \u001b[0;36m<module>\u001b[1;34m\u001b[0m\n\u001b[0;32m      2\u001b[0m \u001b[1;33m\u001b[0m\u001b[0m\n\u001b[0;32m      3\u001b[0m \u001b[0mcsv_path\u001b[0m \u001b[1;33m=\u001b[0m \u001b[1;34m\"file.csv\"\u001b[0m\u001b[1;33m\u001b[0m\u001b[1;33m\u001b[0m\u001b[0m\n\u001b[1;32m----> 4\u001b[1;33m \u001b[0mdf\u001b[0m \u001b[1;33m=\u001b[0m \u001b[0mpd\u001b[0m\u001b[1;33m.\u001b[0m\u001b[0mread_csv\u001b[0m\u001b[1;33m(\u001b[0m\u001b[0mcsv_path\u001b[0m\u001b[1;33m)\u001b[0m\u001b[1;33m\u001b[0m\u001b[1;33m\u001b[0m\u001b[0m\n\u001b[0m\u001b[0;32m      5\u001b[0m \u001b[0mdf\u001b[0m\u001b[1;33m.\u001b[0m\u001b[0mhead\u001b[0m\u001b[1;33m(\u001b[0m\u001b[1;33m)\u001b[0m\u001b[1;33m\u001b[0m\u001b[1;33m\u001b[0m\u001b[0m\n",
      "\u001b[1;32m~\\Anaconda3\\lib\\site-packages\\pandas\\io\\parsers.py\u001b[0m in \u001b[0;36mparser_f\u001b[1;34m(filepath_or_buffer, sep, delimiter, header, names, index_col, usecols, squeeze, prefix, mangle_dupe_cols, dtype, engine, converters, true_values, false_values, skipinitialspace, skiprows, skipfooter, nrows, na_values, keep_default_na, na_filter, verbose, skip_blank_lines, parse_dates, infer_datetime_format, keep_date_col, date_parser, dayfirst, cache_dates, iterator, chunksize, compression, thousands, decimal, lineterminator, quotechar, quoting, doublequote, escapechar, comment, encoding, dialect, error_bad_lines, warn_bad_lines, delim_whitespace, low_memory, memory_map, float_precision)\u001b[0m\n\u001b[0;32m    683\u001b[0m         )\n\u001b[0;32m    684\u001b[0m \u001b[1;33m\u001b[0m\u001b[0m\n\u001b[1;32m--> 685\u001b[1;33m         \u001b[1;32mreturn\u001b[0m \u001b[0m_read\u001b[0m\u001b[1;33m(\u001b[0m\u001b[0mfilepath_or_buffer\u001b[0m\u001b[1;33m,\u001b[0m \u001b[0mkwds\u001b[0m\u001b[1;33m)\u001b[0m\u001b[1;33m\u001b[0m\u001b[1;33m\u001b[0m\u001b[0m\n\u001b[0m\u001b[0;32m    686\u001b[0m \u001b[1;33m\u001b[0m\u001b[0m\n\u001b[0;32m    687\u001b[0m     \u001b[0mparser_f\u001b[0m\u001b[1;33m.\u001b[0m\u001b[0m__name__\u001b[0m \u001b[1;33m=\u001b[0m \u001b[0mname\u001b[0m\u001b[1;33m\u001b[0m\u001b[1;33m\u001b[0m\u001b[0m\n",
      "\u001b[1;32m~\\Anaconda3\\lib\\site-packages\\pandas\\io\\parsers.py\u001b[0m in \u001b[0;36m_read\u001b[1;34m(filepath_or_buffer, kwds)\u001b[0m\n\u001b[0;32m    455\u001b[0m \u001b[1;33m\u001b[0m\u001b[0m\n\u001b[0;32m    456\u001b[0m     \u001b[1;31m# Create the parser.\u001b[0m\u001b[1;33m\u001b[0m\u001b[1;33m\u001b[0m\u001b[1;33m\u001b[0m\u001b[0m\n\u001b[1;32m--> 457\u001b[1;33m     \u001b[0mparser\u001b[0m \u001b[1;33m=\u001b[0m \u001b[0mTextFileReader\u001b[0m\u001b[1;33m(\u001b[0m\u001b[0mfp_or_buf\u001b[0m\u001b[1;33m,\u001b[0m \u001b[1;33m**\u001b[0m\u001b[0mkwds\u001b[0m\u001b[1;33m)\u001b[0m\u001b[1;33m\u001b[0m\u001b[1;33m\u001b[0m\u001b[0m\n\u001b[0m\u001b[0;32m    458\u001b[0m \u001b[1;33m\u001b[0m\u001b[0m\n\u001b[0;32m    459\u001b[0m     \u001b[1;32mif\u001b[0m \u001b[0mchunksize\u001b[0m \u001b[1;32mor\u001b[0m \u001b[0miterator\u001b[0m\u001b[1;33m:\u001b[0m\u001b[1;33m\u001b[0m\u001b[1;33m\u001b[0m\u001b[0m\n",
      "\u001b[1;32m~\\Anaconda3\\lib\\site-packages\\pandas\\io\\parsers.py\u001b[0m in \u001b[0;36m__init__\u001b[1;34m(self, f, engine, **kwds)\u001b[0m\n\u001b[0;32m    893\u001b[0m             \u001b[0mself\u001b[0m\u001b[1;33m.\u001b[0m\u001b[0moptions\u001b[0m\u001b[1;33m[\u001b[0m\u001b[1;34m\"has_index_names\"\u001b[0m\u001b[1;33m]\u001b[0m \u001b[1;33m=\u001b[0m \u001b[0mkwds\u001b[0m\u001b[1;33m[\u001b[0m\u001b[1;34m\"has_index_names\"\u001b[0m\u001b[1;33m]\u001b[0m\u001b[1;33m\u001b[0m\u001b[1;33m\u001b[0m\u001b[0m\n\u001b[0;32m    894\u001b[0m \u001b[1;33m\u001b[0m\u001b[0m\n\u001b[1;32m--> 895\u001b[1;33m         \u001b[0mself\u001b[0m\u001b[1;33m.\u001b[0m\u001b[0m_make_engine\u001b[0m\u001b[1;33m(\u001b[0m\u001b[0mself\u001b[0m\u001b[1;33m.\u001b[0m\u001b[0mengine\u001b[0m\u001b[1;33m)\u001b[0m\u001b[1;33m\u001b[0m\u001b[1;33m\u001b[0m\u001b[0m\n\u001b[0m\u001b[0;32m    896\u001b[0m \u001b[1;33m\u001b[0m\u001b[0m\n\u001b[0;32m    897\u001b[0m     \u001b[1;32mdef\u001b[0m \u001b[0mclose\u001b[0m\u001b[1;33m(\u001b[0m\u001b[0mself\u001b[0m\u001b[1;33m)\u001b[0m\u001b[1;33m:\u001b[0m\u001b[1;33m\u001b[0m\u001b[1;33m\u001b[0m\u001b[0m\n",
      "\u001b[1;32m~\\Anaconda3\\lib\\site-packages\\pandas\\io\\parsers.py\u001b[0m in \u001b[0;36m_make_engine\u001b[1;34m(self, engine)\u001b[0m\n\u001b[0;32m   1133\u001b[0m     \u001b[1;32mdef\u001b[0m \u001b[0m_make_engine\u001b[0m\u001b[1;33m(\u001b[0m\u001b[0mself\u001b[0m\u001b[1;33m,\u001b[0m \u001b[0mengine\u001b[0m\u001b[1;33m=\u001b[0m\u001b[1;34m\"c\"\u001b[0m\u001b[1;33m)\u001b[0m\u001b[1;33m:\u001b[0m\u001b[1;33m\u001b[0m\u001b[1;33m\u001b[0m\u001b[0m\n\u001b[0;32m   1134\u001b[0m         \u001b[1;32mif\u001b[0m \u001b[0mengine\u001b[0m \u001b[1;33m==\u001b[0m \u001b[1;34m\"c\"\u001b[0m\u001b[1;33m:\u001b[0m\u001b[1;33m\u001b[0m\u001b[1;33m\u001b[0m\u001b[0m\n\u001b[1;32m-> 1135\u001b[1;33m             \u001b[0mself\u001b[0m\u001b[1;33m.\u001b[0m\u001b[0m_engine\u001b[0m \u001b[1;33m=\u001b[0m \u001b[0mCParserWrapper\u001b[0m\u001b[1;33m(\u001b[0m\u001b[0mself\u001b[0m\u001b[1;33m.\u001b[0m\u001b[0mf\u001b[0m\u001b[1;33m,\u001b[0m \u001b[1;33m**\u001b[0m\u001b[0mself\u001b[0m\u001b[1;33m.\u001b[0m\u001b[0moptions\u001b[0m\u001b[1;33m)\u001b[0m\u001b[1;33m\u001b[0m\u001b[1;33m\u001b[0m\u001b[0m\n\u001b[0m\u001b[0;32m   1136\u001b[0m         \u001b[1;32melse\u001b[0m\u001b[1;33m:\u001b[0m\u001b[1;33m\u001b[0m\u001b[1;33m\u001b[0m\u001b[0m\n\u001b[0;32m   1137\u001b[0m             \u001b[1;32mif\u001b[0m \u001b[0mengine\u001b[0m \u001b[1;33m==\u001b[0m \u001b[1;34m\"python\"\u001b[0m\u001b[1;33m:\u001b[0m\u001b[1;33m\u001b[0m\u001b[1;33m\u001b[0m\u001b[0m\n",
      "\u001b[1;32m~\\Anaconda3\\lib\\site-packages\\pandas\\io\\parsers.py\u001b[0m in \u001b[0;36m__init__\u001b[1;34m(self, src, **kwds)\u001b[0m\n\u001b[0;32m   1915\u001b[0m         \u001b[0mkwds\u001b[0m\u001b[1;33m[\u001b[0m\u001b[1;34m\"usecols\"\u001b[0m\u001b[1;33m]\u001b[0m \u001b[1;33m=\u001b[0m \u001b[0mself\u001b[0m\u001b[1;33m.\u001b[0m\u001b[0musecols\u001b[0m\u001b[1;33m\u001b[0m\u001b[1;33m\u001b[0m\u001b[0m\n\u001b[0;32m   1916\u001b[0m \u001b[1;33m\u001b[0m\u001b[0m\n\u001b[1;32m-> 1917\u001b[1;33m         \u001b[0mself\u001b[0m\u001b[1;33m.\u001b[0m\u001b[0m_reader\u001b[0m \u001b[1;33m=\u001b[0m \u001b[0mparsers\u001b[0m\u001b[1;33m.\u001b[0m\u001b[0mTextReader\u001b[0m\u001b[1;33m(\u001b[0m\u001b[0msrc\u001b[0m\u001b[1;33m,\u001b[0m \u001b[1;33m**\u001b[0m\u001b[0mkwds\u001b[0m\u001b[1;33m)\u001b[0m\u001b[1;33m\u001b[0m\u001b[1;33m\u001b[0m\u001b[0m\n\u001b[0m\u001b[0;32m   1918\u001b[0m         \u001b[0mself\u001b[0m\u001b[1;33m.\u001b[0m\u001b[0munnamed_cols\u001b[0m \u001b[1;33m=\u001b[0m \u001b[0mself\u001b[0m\u001b[1;33m.\u001b[0m\u001b[0m_reader\u001b[0m\u001b[1;33m.\u001b[0m\u001b[0munnamed_cols\u001b[0m\u001b[1;33m\u001b[0m\u001b[1;33m\u001b[0m\u001b[0m\n\u001b[0;32m   1919\u001b[0m \u001b[1;33m\u001b[0m\u001b[0m\n",
      "\u001b[1;32mpandas\\_libs\\parsers.pyx\u001b[0m in \u001b[0;36mpandas._libs.parsers.TextReader.__cinit__\u001b[1;34m()\u001b[0m\n",
      "\u001b[1;32mpandas\\_libs\\parsers.pyx\u001b[0m in \u001b[0;36mpandas._libs.parsers.TextReader._setup_parser_source\u001b[1;34m()\u001b[0m\n",
      "\u001b[1;31mFileNotFoundError\u001b[0m: [Errno 2] File b'file.csv' does not exist: b'file.csv'"
     ]
    }
   ],
   "source": [
    "#creating a dataframe from csv file\n",
    "\n",
    "csv_path = \"file.csv\"\n",
    "df = pd.read_csv(csv_path)\n",
    "df.head()"
   ]
  },
  {
   "cell_type": "code",
   "execution_count": null,
   "metadata": {},
   "outputs": [],
   "source": [
    "#sample\n",
    "csv_path = \"https://s3-api.us-geo.objectstorage.softlayer.net/cf-courses-data/CognitiveClass/PY0101EN/Chapter%204/Datasets/TopSellingAlbums.csv\"\n",
    "df = pd.read_csv(csv_path)\n",
    "df.head()"
   ]
  },
  {
   "cell_type": "code",
   "execution_count": null,
   "metadata": {},
   "outputs": [],
   "source": [
    "n = df[[\"Artist\",\"Genre\"]]\n",
    "n.head()"
   ]
  },
  {
   "cell_type": "code",
   "execution_count": null,
   "metadata": {},
   "outputs": [],
   "source": [
    "# the same method is applied to an excel file\n",
    "\n",
    "xlxs = \"file.xlsx\"\n",
    "df= pd.read_excel(xlxs)"
   ]
  },
  {
   "cell_type": "code",
   "execution_count": null,
   "metadata": {},
   "outputs": [],
   "source": [
    "#sample_excel\n",
    "xlxs = \"https://s3-api.us-geo.objectstorage.softlayer.net/cf-courses-data/CognitiveClass/PY0101EN/Chapter%204/Datasets/TopSellingAlbums.xlsx\"\n",
    "df=pd.read_excel(xlxs)\n",
    "df.head()"
   ]
  },
  {
   "cell_type": "code",
   "execution_count": 4,
   "metadata": {},
   "outputs": [
    {
     "data": {
      "text/html": [
       "<div>\n",
       "<style scoped>\n",
       "    .dataframe tbody tr th:only-of-type {\n",
       "        vertical-align: middle;\n",
       "    }\n",
       "\n",
       "    .dataframe tbody tr th {\n",
       "        vertical-align: top;\n",
       "    }\n",
       "\n",
       "    .dataframe thead th {\n",
       "        text-align: right;\n",
       "    }\n",
       "</style>\n",
       "<table border=\"1\" class=\"dataframe\">\n",
       "  <thead>\n",
       "    <tr style=\"text-align: right;\">\n",
       "      <th></th>\n",
       "      <th>albums</th>\n",
       "      <th>year</th>\n",
       "      <th>length</th>\n",
       "    </tr>\n",
       "  </thead>\n",
       "  <tbody>\n",
       "    <tr>\n",
       "      <td>0</td>\n",
       "      <td>a</td>\n",
       "      <td>1990</td>\n",
       "      <td>1</td>\n",
       "    </tr>\n",
       "    <tr>\n",
       "      <td>1</td>\n",
       "      <td>b</td>\n",
       "      <td>1991</td>\n",
       "      <td>2</td>\n",
       "    </tr>\n",
       "    <tr>\n",
       "      <td>2</td>\n",
       "      <td>c</td>\n",
       "      <td>1992</td>\n",
       "      <td>3</td>\n",
       "    </tr>\n",
       "    <tr>\n",
       "      <td>3</td>\n",
       "      <td>d</td>\n",
       "      <td>1993</td>\n",
       "      <td>4</td>\n",
       "    </tr>\n",
       "  </tbody>\n",
       "</table>\n",
       "</div>"
      ],
      "text/plain": [
       "  albums  year  length\n",
       "0      a  1990       1\n",
       "1      b  1991       2\n",
       "2      c  1992       3\n",
       "3      d  1993       4"
      ]
     },
     "execution_count": 4,
     "metadata": {},
     "output_type": "execute_result"
    }
   ],
   "source": [
    "#creating a dataframe from dictionary \n",
    "\n",
    "songs = {\"albums\":[\"a\",\"b\",\"c\",\"d\"], \n",
    "         \"year\": [1990,1991,1992,1993], \n",
    "         \"length\":[1,2,3,4] }\n",
    "\n",
    "song_dataframe= pd.DataFrame(songs)\n",
    "song_dataframe.head()"
   ]
  },
  {
   "cell_type": "code",
   "execution_count": null,
   "metadata": {},
   "outputs": [],
   "source": [
    "# we can extract a single column data from the dataframe as shown below\n",
    "\n",
    "x=song_dataframe[[\"length\"]]\n",
    "\n",
    "x.head()"
   ]
  },
  {
   "cell_type": "code",
   "execution_count": null,
   "metadata": {},
   "outputs": [],
   "source": [
    "\n",
    "#for multiple columns\n",
    "\n",
    "y= song_dataframe[[\"length\", \"year\"]]\n",
    "y.head()"
   ]
  },
  {
   "cell_type": "code",
   "execution_count": null,
   "metadata": {},
   "outputs": [],
   "source": [
    "#using loc and iloc to access data in rows and columns\n",
    "\n",
    "song_dataframe.loc[0,\"length\"]\n"
   ]
  },
  {
   "cell_type": "code",
   "execution_count": null,
   "metadata": {},
   "outputs": [],
   "source": [
    "song_dataframe.loc[1,\"length\"]\n"
   ]
  },
  {
   "cell_type": "code",
   "execution_count": null,
   "metadata": {},
   "outputs": [],
   "source": [
    "song_dataframe.loc[2,\"year\"]"
   ]
  },
  {
   "cell_type": "code",
   "execution_count": null,
   "metadata": {},
   "outputs": [],
   "source": [
    "song_dataframe.iloc[0,1]\n"
   ]
  },
  {
   "cell_type": "code",
   "execution_count": null,
   "metadata": {},
   "outputs": [],
   "source": [
    "song_dataframe.iloc[1,1]"
   ]
  },
  {
   "cell_type": "code",
   "execution_count": null,
   "metadata": {},
   "outputs": [],
   "source": [
    "#using loc and iloc to slice data\n",
    "\n",
    "z = song_dataframe.loc[0:2, \"albums\":\"year\"]\n",
    "z.head()"
   ]
  },
  {
   "cell_type": "code",
   "execution_count": 10,
   "metadata": {},
   "outputs": [
    {
     "data": {
      "text/html": [
       "<div>\n",
       "<style scoped>\n",
       "    .dataframe tbody tr th:only-of-type {\n",
       "        vertical-align: middle;\n",
       "    }\n",
       "\n",
       "    .dataframe tbody tr th {\n",
       "        vertical-align: top;\n",
       "    }\n",
       "\n",
       "    .dataframe thead th {\n",
       "        text-align: right;\n",
       "    }\n",
       "</style>\n",
       "<table border=\"1\" class=\"dataframe\">\n",
       "  <thead>\n",
       "    <tr style=\"text-align: right;\">\n",
       "      <th></th>\n",
       "      <th>albums</th>\n",
       "      <th>year</th>\n",
       "      <th>length</th>\n",
       "    </tr>\n",
       "  </thead>\n",
       "  <tbody>\n",
       "    <tr>\n",
       "      <td>0</td>\n",
       "      <td>a</td>\n",
       "      <td>1990</td>\n",
       "      <td>1</td>\n",
       "    </tr>\n",
       "    <tr>\n",
       "      <td>1</td>\n",
       "      <td>b</td>\n",
       "      <td>1991</td>\n",
       "      <td>2</td>\n",
       "    </tr>\n",
       "    <tr>\n",
       "      <td>2</td>\n",
       "      <td>c</td>\n",
       "      <td>1992</td>\n",
       "      <td>3</td>\n",
       "    </tr>\n",
       "    <tr>\n",
       "      <td>3</td>\n",
       "      <td>d</td>\n",
       "      <td>1993</td>\n",
       "      <td>4</td>\n",
       "    </tr>\n",
       "  </tbody>\n",
       "</table>\n",
       "</div>"
      ],
      "text/plain": [
       "  albums  year  length\n",
       "0      a  1990       1\n",
       "1      b  1991       2\n",
       "2      c  1992       3\n",
       "3      d  1993       4"
      ]
     },
     "execution_count": 10,
     "metadata": {},
     "output_type": "execute_result"
    }
   ],
   "source": [
    "f= song_dataframe.iloc[0:4,0:3]\n",
    "f.head()"
   ]
  },
  {
   "cell_type": "code",
   "execution_count": null,
   "metadata": {},
   "outputs": [],
   "source": [
    "pwd"
   ]
  },
  {
   "cell_type": "code",
   "execution_count": null,
   "metadata": {},
   "outputs": [],
   "source": [
    "xlsx_path = \"/Users/RASHY/Desktop/whostat2005_mortality.xls\"\n",
    "df = pd.read_excel(xlsx_path)\n",
    "df.head()"
   ]
  },
  {
   "cell_type": "code",
   "execution_count": null,
   "metadata": {},
   "outputs": [],
   "source": [
    "xlxs1 = \"/Users/RASHY/Documents/newsampledata.xlsx\"\n",
    "df = pd.read_excel(xlxs1)\n",
    "df.head()"
   ]
  },
  {
   "cell_type": "code",
   "execution_count": null,
   "metadata": {},
   "outputs": [],
   "source": [
    "df[[\"OrderDate\",\"Units\"]]"
   ]
  },
  {
   "cell_type": "code",
   "execution_count": 3,
   "metadata": {},
   "outputs": [
    {
     "data": {
      "text/html": [
       "<div>\n",
       "<style scoped>\n",
       "    .dataframe tbody tr th:only-of-type {\n",
       "        vertical-align: middle;\n",
       "    }\n",
       "\n",
       "    .dataframe tbody tr th {\n",
       "        vertical-align: top;\n",
       "    }\n",
       "\n",
       "    .dataframe thead th {\n",
       "        text-align: right;\n",
       "    }\n",
       "</style>\n",
       "<table border=\"1\" class=\"dataframe\">\n",
       "  <thead>\n",
       "    <tr style=\"text-align: right;\">\n",
       "      <th></th>\n",
       "      <th>Brand</th>\n",
       "      <th>Price</th>\n",
       "    </tr>\n",
       "  </thead>\n",
       "  <tbody>\n",
       "    <tr>\n",
       "      <td>0</td>\n",
       "      <td>Honda Civic</td>\n",
       "      <td>32000</td>\n",
       "    </tr>\n",
       "    <tr>\n",
       "      <td>1</td>\n",
       "      <td>Toyota Corolla</td>\n",
       "      <td>35000</td>\n",
       "    </tr>\n",
       "    <tr>\n",
       "      <td>2</td>\n",
       "      <td>Ford Focus</td>\n",
       "      <td>37000</td>\n",
       "    </tr>\n",
       "    <tr>\n",
       "      <td>3</td>\n",
       "      <td>Audi A4</td>\n",
       "      <td>45000</td>\n",
       "    </tr>\n",
       "    <tr>\n",
       "      <td>4</td>\n",
       "      <td>Nissan</td>\n",
       "      <td>45000</td>\n",
       "    </tr>\n",
       "  </tbody>\n",
       "</table>\n",
       "</div>"
      ],
      "text/plain": [
       "            Brand  Price\n",
       "0     Honda Civic  32000\n",
       "1  Toyota Corolla  35000\n",
       "2      Ford Focus  37000\n",
       "3         Audi A4  45000\n",
       "4          Nissan  45000"
      ]
     },
     "execution_count": 3,
     "metadata": {},
     "output_type": "execute_result"
    }
   ],
   "source": [
    "cars = {'Brand': ['Honda Civic','Toyota Corolla','Ford Focus','Audi A4',\"Nissan\"],\n",
    "        'Price': [32000,35000,37000,45000,45000]\n",
    "        }\n",
    "cars_dataFrame = pd.DataFrame(cars)\n",
    "cars_dataFrame.head()"
   ]
  },
  {
   "cell_type": "code",
   "execution_count": null,
   "metadata": {},
   "outputs": [],
   "source": [
    "#to export file to excel (to exclude index--> index=false)\n",
    "cars_dataFrame.to_excel(r\"/Users/RASHY/Documents/cars_price.xlsx\",index=False)"
   ]
  },
  {
   "cell_type": "code",
   "execution_count": null,
   "metadata": {},
   "outputs": [],
   "source": [
    "#to include header and index in excel\n",
    "cars_dataFrame.to_excel(r\"/Users/RASHY/Documents/cars_prices.xlsx\",index=True, header=True)"
   ]
  },
  {
   "cell_type": "code",
   "execution_count": null,
   "metadata": {},
   "outputs": [],
   "source": [
    "cars_dataFrame[[\"Price\"]]"
   ]
  },
  {
   "cell_type": "code",
   "execution_count": 4,
   "metadata": {},
   "outputs": [
    {
     "data": {
      "text/plain": [
       "array([32000, 35000, 37000, 45000], dtype=int64)"
      ]
     },
     "execution_count": 4,
     "metadata": {},
     "output_type": "execute_result"
    }
   ],
   "source": [
    "cars_dataFrame[\"Price\"].unique()"
   ]
  },
  {
   "cell_type": "code",
   "execution_count": null,
   "metadata": {},
   "outputs": [],
   "source": [
    "df1=cars_dataFrame[cars_dataFrame[\"Price\"]>= 45000]\n",
    "df1.head()"
   ]
  },
  {
   "cell_type": "code",
   "execution_count": null,
   "metadata": {},
   "outputs": [],
   "source": [
    "df2=cars_dataFrame[cars_dataFrame[\"Price\"]< 45000]\n",
    "df2.head()"
   ]
  },
  {
   "cell_type": "code",
   "execution_count": 11,
   "metadata": {},
   "outputs": [
    {
     "data": {
      "text/html": [
       "<div>\n",
       "<style scoped>\n",
       "    .dataframe tbody tr th:only-of-type {\n",
       "        vertical-align: middle;\n",
       "    }\n",
       "\n",
       "    .dataframe tbody tr th {\n",
       "        vertical-align: top;\n",
       "    }\n",
       "\n",
       "    .dataframe thead th {\n",
       "        text-align: right;\n",
       "    }\n",
       "</style>\n",
       "<table border=\"1\" class=\"dataframe\">\n",
       "  <thead>\n",
       "    <tr style=\"text-align: right;\">\n",
       "      <th></th>\n",
       "      <th>Name</th>\n",
       "      <th>Age</th>\n",
       "    </tr>\n",
       "  </thead>\n",
       "  <tbody>\n",
       "    <tr>\n",
       "      <td>0</td>\n",
       "      <td>Ayo</td>\n",
       "      <td>10</td>\n",
       "    </tr>\n",
       "    <tr>\n",
       "      <td>1</td>\n",
       "      <td>Imran</td>\n",
       "      <td>15</td>\n",
       "    </tr>\n",
       "    <tr>\n",
       "      <td>2</td>\n",
       "      <td>Chucks</td>\n",
       "      <td>14</td>\n",
       "    </tr>\n",
       "  </tbody>\n",
       "</table>\n",
       "</div>"
      ],
      "text/plain": [
       "     Name  Age\n",
       "0     Ayo   10\n",
       "1   Imran   15\n",
       "2  Chucks   14"
      ]
     },
     "execution_count": 11,
     "metadata": {},
     "output_type": "execute_result"
    }
   ],
   "source": [
    "import pandas as pd\n",
    "\n",
    "data = [['Ayo', 10], ['Imran', 15], ['Chucks', 14]] \n",
    "\n",
    "df3 = pd.DataFrame(data,columns=[\"Name\", \"Age\"])\n",
    "df3.head()"
   ]
  },
  {
   "cell_type": "code",
   "execution_count": 12,
   "metadata": {},
   "outputs": [
    {
     "data": {
      "text/html": [
       "<div>\n",
       "<style scoped>\n",
       "    .dataframe tbody tr th:only-of-type {\n",
       "        vertical-align: middle;\n",
       "    }\n",
       "\n",
       "    .dataframe tbody tr th {\n",
       "        vertical-align: top;\n",
       "    }\n",
       "\n",
       "    .dataframe thead th {\n",
       "        text-align: right;\n",
       "    }\n",
       "</style>\n",
       "<table border=\"1\" class=\"dataframe\">\n",
       "  <thead>\n",
       "    <tr style=\"text-align: right;\">\n",
       "      <th></th>\n",
       "      <th>Name</th>\n",
       "      <th>Age</th>\n",
       "    </tr>\n",
       "  </thead>\n",
       "  <tbody>\n",
       "    <tr>\n",
       "      <td>0</td>\n",
       "      <td>Ayo</td>\n",
       "      <td>10</td>\n",
       "    </tr>\n",
       "    <tr>\n",
       "      <td>1</td>\n",
       "      <td>Imran</td>\n",
       "      <td>15</td>\n",
       "    </tr>\n",
       "    <tr>\n",
       "      <td>2</td>\n",
       "      <td>Chucks</td>\n",
       "      <td>14</td>\n",
       "    </tr>\n",
       "  </tbody>\n",
       "</table>\n",
       "</div>"
      ],
      "text/plain": [
       "     Name  Age\n",
       "0     Ayo   10\n",
       "1   Imran   15\n",
       "2  Chucks   14"
      ]
     },
     "execution_count": 12,
     "metadata": {},
     "output_type": "execute_result"
    }
   ],
   "source": [
    "# Create the pandas DataFrame from the dictionary of narray list\n",
    "#Example 1:\n",
    "# initialize list of lists \n",
    "data = {'Name': ['Ayo', 'Imran','Chucks'] ,'Age':[10, 15, 14]}\n",
    "df4 = pd.DataFrame(data)\n",
    "df4.head()"
   ]
  },
  {
   "cell_type": "code",
   "execution_count": 5,
   "metadata": {},
   "outputs": [
    {
     "data": {
      "text/html": [
       "<div>\n",
       "<style scoped>\n",
       "    .dataframe tbody tr th:only-of-type {\n",
       "        vertical-align: middle;\n",
       "    }\n",
       "\n",
       "    .dataframe tbody tr th {\n",
       "        vertical-align: top;\n",
       "    }\n",
       "\n",
       "    .dataframe thead th {\n",
       "        text-align: right;\n",
       "    }\n",
       "</style>\n",
       "<table border=\"1\" class=\"dataframe\">\n",
       "  <thead>\n",
       "    <tr style=\"text-align: right;\">\n",
       "      <th></th>\n",
       "      <th>State</th>\n",
       "      <th>Capital</th>\n",
       "      <th>area</th>\n",
       "      <th>population</th>\n",
       "    </tr>\n",
       "  </thead>\n",
       "  <tbody>\n",
       "    <tr>\n",
       "      <td>0</td>\n",
       "      <td>Abia</td>\n",
       "      <td>Umuahia</td>\n",
       "      <td>6320</td>\n",
       "      <td>2845380</td>\n",
       "    </tr>\n",
       "    <tr>\n",
       "      <td>1</td>\n",
       "      <td>Adamawa</td>\n",
       "      <td>Yola</td>\n",
       "      <td>36917</td>\n",
       "      <td>3178950</td>\n",
       "    </tr>\n",
       "    <tr>\n",
       "      <td>2</td>\n",
       "      <td>Lagos</td>\n",
       "      <td>Ikeja</td>\n",
       "      <td>3345</td>\n",
       "      <td>9113605</td>\n",
       "    </tr>\n",
       "    <tr>\n",
       "      <td>3</td>\n",
       "      <td>Osun</td>\n",
       "      <td>Osogbo</td>\n",
       "      <td>9251</td>\n",
       "      <td>3416959</td>\n",
       "    </tr>\n",
       "    <tr>\n",
       "      <td>4</td>\n",
       "      <td>Rivers</td>\n",
       "      <td>Portharcourt</td>\n",
       "      <td>11077</td>\n",
       "      <td>5198605</td>\n",
       "    </tr>\n",
       "  </tbody>\n",
       "</table>\n",
       "</div>"
      ],
      "text/plain": [
       "     State       Capital   area  population\n",
       "0     Abia       Umuahia   6320     2845380\n",
       "1  Adamawa          Yola  36917     3178950\n",
       "2    Lagos         Ikeja   3345     9113605\n",
       "3     Osun        Osogbo   9251     3416959\n",
       "4   Rivers  Portharcourt  11077     5198605"
      ]
     },
     "execution_count": 5,
     "metadata": {},
     "output_type": "execute_result"
    }
   ],
   "source": [
    "#Example 2:\n",
    "\n",
    "#Population and area (km/square) of some states in Nigeria and their capital\n",
    "\n",
    "dict_data = {\"State\": [\"Abia\", \"Adamawa\", \"Lagos\", \"Osun\", \"Rivers\"], \n",
    "       \"Capital\": [\"Umuahia\", \"Yola\", \"Ikeja\", \"Osogbo\", \"Portharcourt\"], \n",
    "       \"area\": [6320, 36917, 3345, 9251, 11077], \n",
    "       \"population\": [2845380, 3178950, 9113605, 3416959, 5198605] } \n",
    "df5 = pd.DataFrame(dict_data)\n",
    "df5"
   ]
  },
  {
   "cell_type": "code",
   "execution_count": null,
   "metadata": {},
   "outputs": [],
   "source": [
    "df5.dtypes"
   ]
  },
  {
   "cell_type": "code",
   "execution_count": null,
   "metadata": {},
   "outputs": [],
   "source": [
    "# pandas Datadaframe from lists using zip. \n",
    "\n",
    "# List1 \n",
    "Name = ['Ayo', 'Imran','Chucks', 'judith'] \n",
    "\n",
    "# List2 \n",
    "Age = [25, 30, 26, 22] \n",
    "\n",
    "list_of_tuples = list(zip(Name,Age))\n",
    "\n",
    "df6 = pd.DataFrame(list_of_tuples, columns = [\"Name\",\"Age\"])\n",
    "df6"
   ]
  },
  {
   "cell_type": "code",
   "execution_count": null,
   "metadata": {},
   "outputs": [],
   "source": [
    "series_data = {\"State\": pd.Series([\"Abia\", \"Adamawa\", \"Lagos\", \"Osun\", \"Rivers\"]), \n",
    "       \"Capital\": pd.Series([\"Umuahia\", \"Yola\", \"Ikeja\", \"Osogbo\", \"Portharcourt\"]), \n",
    "       \"area\": pd.Series([6320, 36917, 3345, 9251, 11077]), \n",
    "       \"population\": pd.Series([2845380, 3178950, 9113605, 3416959, 5198605]) }\n",
    "df7 = pd.DataFrame(series_data)\n",
    "df7"
   ]
  },
  {
   "cell_type": "code",
   "execution_count": 6,
   "metadata": {},
   "outputs": [
    {
     "data": {
      "text/html": [
       "<div>\n",
       "<style scoped>\n",
       "    .dataframe tbody tr th:only-of-type {\n",
       "        vertical-align: middle;\n",
       "    }\n",
       "\n",
       "    .dataframe tbody tr th {\n",
       "        vertical-align: top;\n",
       "    }\n",
       "\n",
       "    .dataframe thead th {\n",
       "        text-align: right;\n",
       "    }\n",
       "</style>\n",
       "<table border=\"1\" class=\"dataframe\">\n",
       "  <thead>\n",
       "    <tr style=\"text-align: right;\">\n",
       "      <th></th>\n",
       "      <th>Unnamed: 0</th>\n",
       "      <th>Brand</th>\n",
       "      <th>Price</th>\n",
       "    </tr>\n",
       "  </thead>\n",
       "  <tbody>\n",
       "    <tr>\n",
       "      <td>0</td>\n",
       "      <td>0</td>\n",
       "      <td>Honda Civic</td>\n",
       "      <td>32000</td>\n",
       "    </tr>\n",
       "    <tr>\n",
       "      <td>1</td>\n",
       "      <td>1</td>\n",
       "      <td>Toyota Corolla</td>\n",
       "      <td>35000</td>\n",
       "    </tr>\n",
       "    <tr>\n",
       "      <td>2</td>\n",
       "      <td>2</td>\n",
       "      <td>Ford Focus</td>\n",
       "      <td>37000</td>\n",
       "    </tr>\n",
       "    <tr>\n",
       "      <td>3</td>\n",
       "      <td>3</td>\n",
       "      <td>Audi A4</td>\n",
       "      <td>45000</td>\n",
       "    </tr>\n",
       "  </tbody>\n",
       "</table>\n",
       "</div>"
      ],
      "text/plain": [
       "   Unnamed: 0           Brand  Price\n",
       "0           0     Honda Civic  32000\n",
       "1           1  Toyota Corolla  35000\n",
       "2           2      Ford Focus  37000\n",
       "3           3         Audi A4  45000"
      ]
     },
     "execution_count": 6,
     "metadata": {},
     "output_type": "execute_result"
    }
   ],
   "source": [
    "excel1 =\"/Users/RASHY/Documents/cars_prices.xlsx\"\n",
    "df8 = pd.read_excel(excel1)\n",
    "df8"
   ]
  },
  {
   "cell_type": "code",
   "execution_count": 8,
   "metadata": {},
   "outputs": [
    {
     "data": {
      "text/html": [
       "<div>\n",
       "<style scoped>\n",
       "    .dataframe tbody tr th:only-of-type {\n",
       "        vertical-align: middle;\n",
       "    }\n",
       "\n",
       "    .dataframe tbody tr th {\n",
       "        vertical-align: top;\n",
       "    }\n",
       "\n",
       "    .dataframe thead th {\n",
       "        text-align: right;\n",
       "    }\n",
       "</style>\n",
       "<table border=\"1\" class=\"dataframe\">\n",
       "  <thead>\n",
       "    <tr style=\"text-align: right;\">\n",
       "      <th></th>\n",
       "      <th>OrderDate</th>\n",
       "      <th>Region</th>\n",
       "      <th>Rep</th>\n",
       "      <th>Item</th>\n",
       "      <th>Units</th>\n",
       "      <th>Unit Cost</th>\n",
       "      <th>Total</th>\n",
       "    </tr>\n",
       "  </thead>\n",
       "  <tbody>\n",
       "    <tr>\n",
       "      <td>0</td>\n",
       "      <td>2019-01-06</td>\n",
       "      <td>East</td>\n",
       "      <td>Jones</td>\n",
       "      <td>Pencil</td>\n",
       "      <td>95</td>\n",
       "      <td>1.99</td>\n",
       "      <td>189.05</td>\n",
       "    </tr>\n",
       "    <tr>\n",
       "      <td>1</td>\n",
       "      <td>2019-01-23</td>\n",
       "      <td>Central</td>\n",
       "      <td>Kivell</td>\n",
       "      <td>Binder</td>\n",
       "      <td>50</td>\n",
       "      <td>19.99</td>\n",
       "      <td>999.50</td>\n",
       "    </tr>\n",
       "    <tr>\n",
       "      <td>2</td>\n",
       "      <td>2019-02-09</td>\n",
       "      <td>Central</td>\n",
       "      <td>Jardine</td>\n",
       "      <td>Pencil</td>\n",
       "      <td>36</td>\n",
       "      <td>4.99</td>\n",
       "      <td>179.64</td>\n",
       "    </tr>\n",
       "    <tr>\n",
       "      <td>3</td>\n",
       "      <td>2019-02-26</td>\n",
       "      <td>Central</td>\n",
       "      <td>Gill</td>\n",
       "      <td>Pen</td>\n",
       "      <td>27</td>\n",
       "      <td>19.99</td>\n",
       "      <td>539.73</td>\n",
       "    </tr>\n",
       "    <tr>\n",
       "      <td>4</td>\n",
       "      <td>2019-03-15</td>\n",
       "      <td>West</td>\n",
       "      <td>Sorvino</td>\n",
       "      <td>Pencil</td>\n",
       "      <td>56</td>\n",
       "      <td>2.99</td>\n",
       "      <td>167.44</td>\n",
       "    </tr>\n",
       "    <tr>\n",
       "      <td>5</td>\n",
       "      <td>2019-04-01</td>\n",
       "      <td>East</td>\n",
       "      <td>Jones</td>\n",
       "      <td>Binder</td>\n",
       "      <td>60</td>\n",
       "      <td>4.99</td>\n",
       "      <td>299.40</td>\n",
       "    </tr>\n",
       "    <tr>\n",
       "      <td>6</td>\n",
       "      <td>2019-04-18</td>\n",
       "      <td>Central</td>\n",
       "      <td>Andrews</td>\n",
       "      <td>Pencil</td>\n",
       "      <td>75</td>\n",
       "      <td>1.99</td>\n",
       "      <td>149.25</td>\n",
       "    </tr>\n",
       "    <tr>\n",
       "      <td>7</td>\n",
       "      <td>2019-05-05</td>\n",
       "      <td>Central</td>\n",
       "      <td>Jardine</td>\n",
       "      <td>Pencil</td>\n",
       "      <td>90</td>\n",
       "      <td>4.99</td>\n",
       "      <td>449.10</td>\n",
       "    </tr>\n",
       "    <tr>\n",
       "      <td>8</td>\n",
       "      <td>2019-05-22</td>\n",
       "      <td>West</td>\n",
       "      <td>Thompson</td>\n",
       "      <td>Pencil</td>\n",
       "      <td>32</td>\n",
       "      <td>1.99</td>\n",
       "      <td>63.68</td>\n",
       "    </tr>\n",
       "    <tr>\n",
       "      <td>9</td>\n",
       "      <td>2019-06-08</td>\n",
       "      <td>East</td>\n",
       "      <td>Jones</td>\n",
       "      <td>Binder</td>\n",
       "      <td>60</td>\n",
       "      <td>8.99</td>\n",
       "      <td>539.40</td>\n",
       "    </tr>\n",
       "    <tr>\n",
       "      <td>10</td>\n",
       "      <td>2019-06-25</td>\n",
       "      <td>Central</td>\n",
       "      <td>Morgan</td>\n",
       "      <td>Pencil</td>\n",
       "      <td>90</td>\n",
       "      <td>4.99</td>\n",
       "      <td>449.10</td>\n",
       "    </tr>\n",
       "    <tr>\n",
       "      <td>11</td>\n",
       "      <td>2019-07-12</td>\n",
       "      <td>East</td>\n",
       "      <td>Howard</td>\n",
       "      <td>Binder</td>\n",
       "      <td>29</td>\n",
       "      <td>1.99</td>\n",
       "      <td>57.71</td>\n",
       "    </tr>\n",
       "    <tr>\n",
       "      <td>12</td>\n",
       "      <td>2019-07-29</td>\n",
       "      <td>East</td>\n",
       "      <td>Parent</td>\n",
       "      <td>Binder</td>\n",
       "      <td>81</td>\n",
       "      <td>19.99</td>\n",
       "      <td>1619.19</td>\n",
       "    </tr>\n",
       "    <tr>\n",
       "      <td>13</td>\n",
       "      <td>2019-08-15</td>\n",
       "      <td>East</td>\n",
       "      <td>Jones</td>\n",
       "      <td>Pencil</td>\n",
       "      <td>35</td>\n",
       "      <td>4.99</td>\n",
       "      <td>174.65</td>\n",
       "    </tr>\n",
       "    <tr>\n",
       "      <td>14</td>\n",
       "      <td>2019-09-01</td>\n",
       "      <td>Central</td>\n",
       "      <td>Smith</td>\n",
       "      <td>Desk</td>\n",
       "      <td>2</td>\n",
       "      <td>125.00</td>\n",
       "      <td>250.00</td>\n",
       "    </tr>\n",
       "    <tr>\n",
       "      <td>15</td>\n",
       "      <td>2019-09-18</td>\n",
       "      <td>East</td>\n",
       "      <td>Jones</td>\n",
       "      <td>Pen Set</td>\n",
       "      <td>16</td>\n",
       "      <td>15.99</td>\n",
       "      <td>255.84</td>\n",
       "    </tr>\n",
       "    <tr>\n",
       "      <td>16</td>\n",
       "      <td>2019-10-05</td>\n",
       "      <td>Central</td>\n",
       "      <td>Morgan</td>\n",
       "      <td>Binder</td>\n",
       "      <td>28</td>\n",
       "      <td>8.99</td>\n",
       "      <td>251.72</td>\n",
       "    </tr>\n",
       "    <tr>\n",
       "      <td>17</td>\n",
       "      <td>2019-10-22</td>\n",
       "      <td>East</td>\n",
       "      <td>Jones</td>\n",
       "      <td>Pen</td>\n",
       "      <td>64</td>\n",
       "      <td>8.99</td>\n",
       "      <td>575.36</td>\n",
       "    </tr>\n",
       "    <tr>\n",
       "      <td>18</td>\n",
       "      <td>2019-11-08</td>\n",
       "      <td>East</td>\n",
       "      <td>Parent</td>\n",
       "      <td>Pen</td>\n",
       "      <td>15</td>\n",
       "      <td>19.99</td>\n",
       "      <td>299.85</td>\n",
       "    </tr>\n",
       "    <tr>\n",
       "      <td>19</td>\n",
       "      <td>2019-11-25</td>\n",
       "      <td>Central</td>\n",
       "      <td>Kivell</td>\n",
       "      <td>Pen Set</td>\n",
       "      <td>96</td>\n",
       "      <td>4.99</td>\n",
       "      <td>479.04</td>\n",
       "    </tr>\n",
       "    <tr>\n",
       "      <td>20</td>\n",
       "      <td>2019-12-12</td>\n",
       "      <td>Central</td>\n",
       "      <td>Smith</td>\n",
       "      <td>Pencil</td>\n",
       "      <td>67</td>\n",
       "      <td>1.29</td>\n",
       "      <td>86.43</td>\n",
       "    </tr>\n",
       "    <tr>\n",
       "      <td>21</td>\n",
       "      <td>2019-12-29</td>\n",
       "      <td>East</td>\n",
       "      <td>Parent</td>\n",
       "      <td>Pen Set</td>\n",
       "      <td>74</td>\n",
       "      <td>15.99</td>\n",
       "      <td>1183.26</td>\n",
       "    </tr>\n",
       "    <tr>\n",
       "      <td>22</td>\n",
       "      <td>2020-01-15</td>\n",
       "      <td>Central</td>\n",
       "      <td>Gill</td>\n",
       "      <td>Binder</td>\n",
       "      <td>46</td>\n",
       "      <td>8.99</td>\n",
       "      <td>413.54</td>\n",
       "    </tr>\n",
       "    <tr>\n",
       "      <td>23</td>\n",
       "      <td>2020-02-01</td>\n",
       "      <td>Central</td>\n",
       "      <td>Smith</td>\n",
       "      <td>Binder</td>\n",
       "      <td>87</td>\n",
       "      <td>15.00</td>\n",
       "      <td>1305.00</td>\n",
       "    </tr>\n",
       "    <tr>\n",
       "      <td>24</td>\n",
       "      <td>2020-02-18</td>\n",
       "      <td>East</td>\n",
       "      <td>Jones</td>\n",
       "      <td>Binder</td>\n",
       "      <td>4</td>\n",
       "      <td>4.99</td>\n",
       "      <td>19.96</td>\n",
       "    </tr>\n",
       "    <tr>\n",
       "      <td>25</td>\n",
       "      <td>2020-03-07</td>\n",
       "      <td>West</td>\n",
       "      <td>Sorvino</td>\n",
       "      <td>Binder</td>\n",
       "      <td>7</td>\n",
       "      <td>19.99</td>\n",
       "      <td>139.93</td>\n",
       "    </tr>\n",
       "    <tr>\n",
       "      <td>26</td>\n",
       "      <td>2020-03-24</td>\n",
       "      <td>Central</td>\n",
       "      <td>Jardine</td>\n",
       "      <td>Pen Set</td>\n",
       "      <td>50</td>\n",
       "      <td>4.99</td>\n",
       "      <td>249.50</td>\n",
       "    </tr>\n",
       "    <tr>\n",
       "      <td>27</td>\n",
       "      <td>2020-04-10</td>\n",
       "      <td>Central</td>\n",
       "      <td>Andrews</td>\n",
       "      <td>Pencil</td>\n",
       "      <td>66</td>\n",
       "      <td>1.99</td>\n",
       "      <td>131.34</td>\n",
       "    </tr>\n",
       "    <tr>\n",
       "      <td>28</td>\n",
       "      <td>2020-04-27</td>\n",
       "      <td>East</td>\n",
       "      <td>Howard</td>\n",
       "      <td>Pen</td>\n",
       "      <td>96</td>\n",
       "      <td>4.99</td>\n",
       "      <td>479.04</td>\n",
       "    </tr>\n",
       "    <tr>\n",
       "      <td>29</td>\n",
       "      <td>2020-05-14</td>\n",
       "      <td>Central</td>\n",
       "      <td>Gill</td>\n",
       "      <td>Pencil</td>\n",
       "      <td>53</td>\n",
       "      <td>1.29</td>\n",
       "      <td>68.37</td>\n",
       "    </tr>\n",
       "    <tr>\n",
       "      <td>30</td>\n",
       "      <td>2020-05-31</td>\n",
       "      <td>Central</td>\n",
       "      <td>Gill</td>\n",
       "      <td>Binder</td>\n",
       "      <td>80</td>\n",
       "      <td>8.99</td>\n",
       "      <td>719.20</td>\n",
       "    </tr>\n",
       "    <tr>\n",
       "      <td>31</td>\n",
       "      <td>2020-06-17</td>\n",
       "      <td>Central</td>\n",
       "      <td>Kivell</td>\n",
       "      <td>Desk</td>\n",
       "      <td>5</td>\n",
       "      <td>125.00</td>\n",
       "      <td>625.00</td>\n",
       "    </tr>\n",
       "    <tr>\n",
       "      <td>32</td>\n",
       "      <td>2020-07-04</td>\n",
       "      <td>East</td>\n",
       "      <td>Jones</td>\n",
       "      <td>Pen Set</td>\n",
       "      <td>62</td>\n",
       "      <td>4.99</td>\n",
       "      <td>309.38</td>\n",
       "    </tr>\n",
       "    <tr>\n",
       "      <td>33</td>\n",
       "      <td>2020-07-21</td>\n",
       "      <td>Central</td>\n",
       "      <td>Morgan</td>\n",
       "      <td>Pen Set</td>\n",
       "      <td>55</td>\n",
       "      <td>12.49</td>\n",
       "      <td>686.95</td>\n",
       "    </tr>\n",
       "    <tr>\n",
       "      <td>34</td>\n",
       "      <td>2020-08-07</td>\n",
       "      <td>Central</td>\n",
       "      <td>Kivell</td>\n",
       "      <td>Pen Set</td>\n",
       "      <td>42</td>\n",
       "      <td>23.95</td>\n",
       "      <td>1005.90</td>\n",
       "    </tr>\n",
       "    <tr>\n",
       "      <td>35</td>\n",
       "      <td>2020-08-24</td>\n",
       "      <td>West</td>\n",
       "      <td>Sorvino</td>\n",
       "      <td>Desk</td>\n",
       "      <td>3</td>\n",
       "      <td>275.00</td>\n",
       "      <td>825.00</td>\n",
       "    </tr>\n",
       "    <tr>\n",
       "      <td>36</td>\n",
       "      <td>2020-09-10</td>\n",
       "      <td>Central</td>\n",
       "      <td>Gill</td>\n",
       "      <td>Pencil</td>\n",
       "      <td>7</td>\n",
       "      <td>1.29</td>\n",
       "      <td>9.03</td>\n",
       "    </tr>\n",
       "    <tr>\n",
       "      <td>37</td>\n",
       "      <td>2020-09-27</td>\n",
       "      <td>West</td>\n",
       "      <td>Sorvino</td>\n",
       "      <td>Pen</td>\n",
       "      <td>76</td>\n",
       "      <td>1.99</td>\n",
       "      <td>151.24</td>\n",
       "    </tr>\n",
       "    <tr>\n",
       "      <td>38</td>\n",
       "      <td>2020-10-14</td>\n",
       "      <td>West</td>\n",
       "      <td>Thompson</td>\n",
       "      <td>Binder</td>\n",
       "      <td>57</td>\n",
       "      <td>19.99</td>\n",
       "      <td>1139.43</td>\n",
       "    </tr>\n",
       "    <tr>\n",
       "      <td>39</td>\n",
       "      <td>2020-10-31</td>\n",
       "      <td>Central</td>\n",
       "      <td>Andrews</td>\n",
       "      <td>Pencil</td>\n",
       "      <td>14</td>\n",
       "      <td>1.29</td>\n",
       "      <td>18.06</td>\n",
       "    </tr>\n",
       "    <tr>\n",
       "      <td>40</td>\n",
       "      <td>2020-11-17</td>\n",
       "      <td>Central</td>\n",
       "      <td>Jardine</td>\n",
       "      <td>Binder</td>\n",
       "      <td>11</td>\n",
       "      <td>4.99</td>\n",
       "      <td>54.89</td>\n",
       "    </tr>\n",
       "    <tr>\n",
       "      <td>41</td>\n",
       "      <td>2020-12-04</td>\n",
       "      <td>Central</td>\n",
       "      <td>Jardine</td>\n",
       "      <td>Binder</td>\n",
       "      <td>94</td>\n",
       "      <td>19.99</td>\n",
       "      <td>1879.06</td>\n",
       "    </tr>\n",
       "    <tr>\n",
       "      <td>42</td>\n",
       "      <td>2020-12-21</td>\n",
       "      <td>Central</td>\n",
       "      <td>Andrews</td>\n",
       "      <td>Binder</td>\n",
       "      <td>28</td>\n",
       "      <td>4.99</td>\n",
       "      <td>139.72</td>\n",
       "    </tr>\n",
       "  </tbody>\n",
       "</table>\n",
       "</div>"
      ],
      "text/plain": [
       "    OrderDate   Region       Rep     Item  Units  Unit Cost    Total\n",
       "0  2019-01-06     East     Jones   Pencil     95       1.99   189.05\n",
       "1  2019-01-23  Central    Kivell   Binder     50      19.99   999.50\n",
       "2  2019-02-09  Central   Jardine   Pencil     36       4.99   179.64\n",
       "3  2019-02-26  Central      Gill      Pen     27      19.99   539.73\n",
       "4  2019-03-15     West   Sorvino   Pencil     56       2.99   167.44\n",
       "5  2019-04-01     East     Jones   Binder     60       4.99   299.40\n",
       "6  2019-04-18  Central   Andrews   Pencil     75       1.99   149.25\n",
       "7  2019-05-05  Central   Jardine   Pencil     90       4.99   449.10\n",
       "8  2019-05-22     West  Thompson   Pencil     32       1.99    63.68\n",
       "9  2019-06-08     East     Jones   Binder     60       8.99   539.40\n",
       "10 2019-06-25  Central    Morgan   Pencil     90       4.99   449.10\n",
       "11 2019-07-12     East    Howard   Binder     29       1.99    57.71\n",
       "12 2019-07-29     East    Parent   Binder     81      19.99  1619.19\n",
       "13 2019-08-15     East     Jones   Pencil     35       4.99   174.65\n",
       "14 2019-09-01  Central     Smith     Desk      2     125.00   250.00\n",
       "15 2019-09-18     East     Jones  Pen Set     16      15.99   255.84\n",
       "16 2019-10-05  Central    Morgan   Binder     28       8.99   251.72\n",
       "17 2019-10-22     East     Jones      Pen     64       8.99   575.36\n",
       "18 2019-11-08     East    Parent      Pen     15      19.99   299.85\n",
       "19 2019-11-25  Central    Kivell  Pen Set     96       4.99   479.04\n",
       "20 2019-12-12  Central     Smith   Pencil     67       1.29    86.43\n",
       "21 2019-12-29     East    Parent  Pen Set     74      15.99  1183.26\n",
       "22 2020-01-15  Central      Gill   Binder     46       8.99   413.54\n",
       "23 2020-02-01  Central     Smith   Binder     87      15.00  1305.00\n",
       "24 2020-02-18     East     Jones   Binder      4       4.99    19.96\n",
       "25 2020-03-07     West   Sorvino   Binder      7      19.99   139.93\n",
       "26 2020-03-24  Central   Jardine  Pen Set     50       4.99   249.50\n",
       "27 2020-04-10  Central   Andrews   Pencil     66       1.99   131.34\n",
       "28 2020-04-27     East    Howard      Pen     96       4.99   479.04\n",
       "29 2020-05-14  Central      Gill   Pencil     53       1.29    68.37\n",
       "30 2020-05-31  Central      Gill   Binder     80       8.99   719.20\n",
       "31 2020-06-17  Central    Kivell     Desk      5     125.00   625.00\n",
       "32 2020-07-04     East     Jones  Pen Set     62       4.99   309.38\n",
       "33 2020-07-21  Central    Morgan  Pen Set     55      12.49   686.95\n",
       "34 2020-08-07  Central    Kivell  Pen Set     42      23.95  1005.90\n",
       "35 2020-08-24     West   Sorvino     Desk      3     275.00   825.00\n",
       "36 2020-09-10  Central      Gill   Pencil      7       1.29     9.03\n",
       "37 2020-09-27     West   Sorvino      Pen     76       1.99   151.24\n",
       "38 2020-10-14     West  Thompson   Binder     57      19.99  1139.43\n",
       "39 2020-10-31  Central   Andrews   Pencil     14       1.29    18.06\n",
       "40 2020-11-17  Central   Jardine   Binder     11       4.99    54.89\n",
       "41 2020-12-04  Central   Jardine   Binder     94      19.99  1879.06\n",
       "42 2020-12-21  Central   Andrews   Binder     28       4.99   139.72"
      ]
     },
     "execution_count": 8,
     "metadata": {},
     "output_type": "execute_result"
    }
   ],
   "source": [
    "trial = \"/Users/RASHY/Documents/newsampledata.xlsx\"\n",
    "df8 = pd.read_excel(trial)\n",
    "df8"
   ]
  },
  {
   "cell_type": "code",
   "execution_count": 9,
   "metadata": {},
   "outputs": [
    {
     "name": "stdout",
     "output_type": "stream",
     "text": [
      "   OrderDate   Region      Rep    Item  Units  Unit Cost   Total\n",
      "0 2019-01-06     East    Jones  Pencil     95       1.99  189.05\n",
      "1 2019-01-23  Central   Kivell  Binder     50      19.99  999.50\n",
      "2 2019-02-09  Central  Jardine  Pencil     36       4.99  179.64\n",
      "3 2019-02-26  Central     Gill     Pen     27      19.99  539.73\n",
      "4 2019-03-15     West  Sorvino  Pencil     56       2.99  167.44 \n",
      "\n",
      "0    95\n",
      "1    50\n",
      "2    36\n",
      "3    27\n",
      "4    56\n",
      "Name: Units, dtype: int64\n"
     ]
    }
   ],
   "source": [
    "print (df8.head(),\"\\n\")\n",
    "\n",
    "print(df8[\"Units\"].head())\n"
   ]
  },
  {
   "cell_type": "code",
   "execution_count": 10,
   "metadata": {},
   "outputs": [
    {
     "name": "stdout",
     "output_type": "stream",
     "text": [
      "    OrderDate   Region       Rep    Item  Units  Unit Cost    Total\n",
      "38 2020-10-14     West  Thompson  Binder     57      19.99  1139.43\n",
      "39 2020-10-31  Central   Andrews  Pencil     14       1.29    18.06\n",
      "40 2020-11-17  Central   Jardine  Binder     11       4.99    54.89\n",
      "41 2020-12-04  Central   Jardine  Binder     94      19.99  1879.06\n",
      "42 2020-12-21  Central   Andrews  Binder     28       4.99   139.72 \n",
      "\n",
      "38    57\n",
      "39    14\n",
      "40    11\n",
      "41    94\n",
      "42    28\n",
      "Name: Units, dtype: int64\n"
     ]
    }
   ],
   "source": [
    "print (df8.tail(),\"\\n\")\n",
    "\n",
    "print (df8[\"Units\"].tail())"
   ]
  },
  {
   "cell_type": "code",
   "execution_count": null,
   "metadata": {},
   "outputs": [],
   "source": [
    "df8.describe()"
   ]
  },
  {
   "cell_type": "code",
   "execution_count": null,
   "metadata": {},
   "outputs": [],
   "source": [
    "df8.describe(include = \"all\")"
   ]
  },
  {
   "cell_type": "code",
   "execution_count": null,
   "metadata": {},
   "outputs": [],
   "source": [
    "df8[\"Unit Cost\"].mean()"
   ]
  },
  {
   "cell_type": "code",
   "execution_count": null,
   "metadata": {},
   "outputs": [],
   "source": [
    "df8[\"Units\"].prod()"
   ]
  },
  {
   "cell_type": "code",
   "execution_count": null,
   "metadata": {},
   "outputs": [],
   "source": [
    "df8[\"Units\"].mode()"
   ]
  },
  {
   "cell_type": "code",
   "execution_count": null,
   "metadata": {},
   "outputs": [],
   "source": [
    "df8.columns"
   ]
  },
  {
   "cell_type": "code",
   "execution_count": null,
   "metadata": {},
   "outputs": [],
   "source": [
    "df8.info"
   ]
  },
  {
   "cell_type": "code",
   "execution_count": null,
   "metadata": {},
   "outputs": [],
   "source": [
    "df8[\"Region\"]"
   ]
  },
  {
   "cell_type": "code",
   "execution_count": null,
   "metadata": {},
   "outputs": [],
   "source": [
    "df8[[\"Region\"]]"
   ]
  },
  {
   "cell_type": "code",
   "execution_count": null,
   "metadata": {},
   "outputs": [],
   "source": [
    "df8[[\"Region\",\"Units\"]]"
   ]
  },
  {
   "cell_type": "code",
   "execution_count": null,
   "metadata": {},
   "outputs": [],
   "source": [
    "df8.describe(include=\"all\")"
   ]
  },
  {
   "cell_type": "code",
   "execution_count": null,
   "metadata": {},
   "outputs": [],
   "source": [
    "df8[0:6]"
   ]
  },
  {
   "cell_type": "code",
   "execution_count": null,
   "metadata": {},
   "outputs": [],
   "source": [
    "df8[6:8]"
   ]
  },
  {
   "cell_type": "code",
   "execution_count": null,
   "metadata": {},
   "outputs": [],
   "source": [
    "df8.loc[4:6,\"Region\":\"Item\"]"
   ]
  },
  {
   "cell_type": "code",
   "execution_count": null,
   "metadata": {},
   "outputs": [],
   "source": [
    "df8.iloc[0:6,2:4]"
   ]
  },
  {
   "cell_type": "code",
   "execution_count": 13,
   "metadata": {},
   "outputs": [
    {
     "name": "stdout",
     "output_type": "stream",
     "text": [
      "    OrderDate       Rep     Item  Units  Unit Cost    Total\n",
      "0  2019-01-06     Jones   Pencil     95       1.99   189.05\n",
      "1  2019-01-23    Kivell   Binder     50      19.99   999.50\n",
      "2  2019-02-09   Jardine   Pencil     36       4.99   179.64\n",
      "3  2019-02-26      Gill      Pen     27      19.99   539.73\n",
      "4  2019-03-15   Sorvino   Pencil     56       2.99   167.44\n",
      "5  2019-04-01     Jones   Binder     60       4.99   299.40\n",
      "6  2019-04-18   Andrews   Pencil     75       1.99   149.25\n",
      "7  2019-05-05   Jardine   Pencil     90       4.99   449.10\n",
      "8  2019-05-22  Thompson   Pencil     32       1.99    63.68\n",
      "9  2019-06-08     Jones   Binder     60       8.99   539.40\n",
      "10 2019-06-25    Morgan   Pencil     90       4.99   449.10\n",
      "11 2019-07-12    Howard   Binder     29       1.99    57.71\n",
      "12 2019-07-29    Parent   Binder     81      19.99  1619.19\n",
      "13 2019-08-15     Jones   Pencil     35       4.99   174.65\n",
      "14 2019-09-01     Smith     Desk      2     125.00   250.00\n",
      "15 2019-09-18     Jones  Pen Set     16      15.99   255.84\n",
      "16 2019-10-05    Morgan   Binder     28       8.99   251.72\n",
      "17 2019-10-22     Jones      Pen     64       8.99   575.36\n",
      "18 2019-11-08    Parent      Pen     15      19.99   299.85\n",
      "19 2019-11-25    Kivell  Pen Set     96       4.99   479.04\n",
      "20 2019-12-12     Smith   Pencil     67       1.29    86.43\n",
      "21 2019-12-29    Parent  Pen Set     74      15.99  1183.26\n",
      "22 2020-01-15      Gill   Binder     46       8.99   413.54\n",
      "23 2020-02-01     Smith   Binder     87      15.00  1305.00\n",
      "24 2020-02-18     Jones   Binder      4       4.99    19.96\n",
      "25 2020-03-07   Sorvino   Binder      7      19.99   139.93\n",
      "26 2020-03-24   Jardine  Pen Set     50       4.99   249.50\n",
      "27 2020-04-10   Andrews   Pencil     66       1.99   131.34\n",
      "28 2020-04-27    Howard      Pen     96       4.99   479.04\n",
      "29 2020-05-14      Gill   Pencil     53       1.29    68.37\n",
      "30 2020-05-31      Gill   Binder     80       8.99   719.20\n",
      "31 2020-06-17    Kivell     Desk      5     125.00   625.00\n",
      "32 2020-07-04     Jones  Pen Set     62       4.99   309.38\n",
      "33 2020-07-21    Morgan  Pen Set     55      12.49   686.95\n",
      "34 2020-08-07    Kivell  Pen Set     42      23.95  1005.90\n",
      "35 2020-08-24   Sorvino     Desk      3     275.00   825.00\n",
      "36 2020-09-10      Gill   Pencil      7       1.29     9.03\n",
      "37 2020-09-27   Sorvino      Pen     76       1.99   151.24\n",
      "38 2020-10-14  Thompson   Binder     57      19.99  1139.43\n",
      "39 2020-10-31   Andrews   Pencil     14       1.29    18.06\n",
      "40 2020-11-17   Jardine   Binder     11       4.99    54.89\n",
      "41 2020-12-04   Jardine   Binder     94      19.99  1879.06\n",
      "42 2020-12-21   Andrews   Binder     28       4.99   139.72\n"
     ]
    }
   ],
   "source": [
    "dff = df8.drop([\"Region\"], axis=1)\n",
    "print(dff)"
   ]
  },
  {
   "cell_type": "code",
   "execution_count": null,
   "metadata": {},
   "outputs": [],
   "source": [
    "del dff[\"Units\"]\n",
    "dff"
   ]
  },
  {
   "cell_type": "code",
   "execution_count": null,
   "metadata": {},
   "outputs": [],
   "source": [
    "dff.pop(\"Unit Cost\")\n",
    "dff"
   ]
  },
  {
   "cell_type": "code",
   "execution_count": null,
   "metadata": {},
   "outputs": [],
   "source": [
    "dff[\"Total\"].mean()"
   ]
  },
  {
   "cell_type": "code",
   "execution_count": null,
   "metadata": {},
   "outputs": [],
   "source": [
    "dff.mean()"
   ]
  },
  {
   "cell_type": "code",
   "execution_count": null,
   "metadata": {},
   "outputs": [],
   "source": [
    "dff[\"Region\"] = df8[\"Region\"].astype(\"float\")"
   ]
  },
  {
   "cell_type": "code",
   "execution_count": 48,
   "metadata": {
    "scrolled": true
   },
   "outputs": [
    {
     "name": "stdout",
     "output_type": "stream",
     "text": [
      "x= 2  y= 2\n"
     ]
    }
   ],
   "source": [
    "class Points(object):\n",
    "  def __init__(self,x,y):\n",
    "\n",
    "    self.x=x\n",
    "    self.y=y\n",
    "\n",
    "  def print_point(self):\n",
    "\n",
    "    print('x=',self.x,' y=',self.y)\n",
    "\n",
    "p2=Points(1,2)\n",
    "\n",
    "p2.x=2\n",
    "\n",
    "p2.print_point()"
   ]
  },
  {
   "cell_type": "code",
   "execution_count": 34,
   "metadata": {},
   "outputs": [
    {
     "data": {
      "text/plain": [
       "True"
      ]
     },
     "execution_count": 34,
     "metadata": {},
     "output_type": "execute_result"
    }
   ],
   "source": [
    "V={'1','2'}\n",
    "\"1\" in V"
   ]
  }
 ],
 "metadata": {
  "kernelspec": {
   "display_name": "Python 3",
   "language": "python",
   "name": "python3"
  },
  "language_info": {
   "codemirror_mode": {
    "name": "ipython",
    "version": 3
   },
   "file_extension": ".py",
   "mimetype": "text/x-python",
   "name": "python",
   "nbconvert_exporter": "python",
   "pygments_lexer": "ipython3",
   "version": "3.7.4"
  }
 },
 "nbformat": 4,
 "nbformat_minor": 2
}
